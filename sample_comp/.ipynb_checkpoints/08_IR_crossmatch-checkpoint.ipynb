{
 "cells": [
  {
   "cell_type": "markdown",
   "metadata": {
    "collapsed": true
   },
   "source": [
    "## Cross-Match 2MASS & WISE Catalogues"
   ]
  },
  {
   "cell_type": "code",
   "execution_count": 1,
   "metadata": {},
   "outputs": [],
   "source": [
    "import os, glob, getpass, sys, warnings\n",
    "\n",
    "import numpy as np\n",
    "import matplotlib.pyplot as plt\n",
    "from astropy.table import Table, join, vstack, hstack, Column, MaskedColumn, unique\n",
    "from astropy.utils.exceptions import AstropyWarning\n",
    "from astropy import units as u\n",
    "\n",
    "user = getpass.getuser()\n",
    "sys.path.append('/Users/' + user + '/Dropbox/my_python_packages')\n",
    "path = '../'"
   ]
  },
  {
   "cell_type": "code",
   "execution_count": 2,
   "metadata": {},
   "outputs": [],
   "source": [
    "# Path to data =================================\n",
    "warnings.simplefilter('ignore', AstropyWarning)\n",
    "path_0        = path + 'sample_control/'\n",
    "path_1        = path + 'sample_clusters/cl_'\n",
    "path_2        = path + 'sample_gaia/'\n",
    "\n",
    "path_control  = path_0 + 'OPH___control_sample.vot'\n",
    "path_gaia     = path_2 + 'gaia_sample_cleaned.vot'\n",
    "path_entire   = 'entire_sample_case_0.vot'\n",
    "\n",
    "# Read Data ====================================\n",
    "sample_gaia    = Table.read(path_gaia,    format = 'votable')\n",
    "sample_control = Table.read(path_control, format = 'votable')\n",
    "sample_entire  = Table.read(path_entire,  format = 'votable')\n",
    "sample_common  = sample_entire[sample_entire['DOH'] == 'YYY']"
   ]
  },
  {
   "cell_type": "code",
   "execution_count": 3,
   "metadata": {},
   "outputs": [
    {
     "name": "stdout",
     "output_type": "stream",
     "text": [
      "N_Elements of Common  Sample: 391\n",
      "N_Elements of Entire  Sample: 532\n",
      "N_Elements of Control Sample: 188\n",
      "N_Elements of Gaia    Sample: 2300\n"
     ]
    }
   ],
   "source": [
    "# Sanity Check =================================\n",
    "print(f'N_Elements of Common  Sample: {len(sample_common)}')\n",
    "print(f'N_Elements of Entire  Sample: {len(sample_entire)}')\n",
    "print(f'N_Elements of Control Sample: {len(sample_control)}')\n",
    "print(f'N_Elements of Gaia    Sample: {len(sample_gaia)}')"
   ]
  },
  {
   "cell_type": "code",
   "execution_count": 18,
   "metadata": {},
   "outputs": [
    {
     "name": "stdout",
     "output_type": "stream",
     "text": [
      "Gaia-Dawnloaded ==================\n",
      "2MASS/WISE * Gaia N_els:   391 391\n",
      "\n",
      "Removing Masked Elements =========\n",
      "2MASS/WISE * Gaia N_els:   382 332\n"
     ]
    }
   ],
   "source": [
    "#Read catalogues ===============================\n",
    "warnings.simplefilter('ignore', AstropyWarning)\n",
    "sample_t = Table.read('sample_common_x_2mass-result.vot') # Gaia Server [2MASS] * Sample Common\n",
    "sample_w = Table.read('sample_common_x_wise-result.vot')  # Gaia Server [WISE]  * Sample Common\n",
    "\n",
    "print('Gaia-Dawnloaded ==================')\n",
    "print(f'2MASS/WISE * Gaia N_els:   {len(sample_t)} {len(sample_w)}')\n",
    "\n",
    "\n",
    "# Remove Masked Elements =======================\n",
    "sample_t = sample_t[sample_t['ph_qual'].mask == False]\n",
    "sample_w = sample_w[sample_w['ph_qual'].mask == False]\n",
    "print()\n",
    "print('Removing Masked Elements =========')\n",
    "print(f'2MASS/WISE * Gaia N_els:   {len(sample_t)} {len(sample_w)}')"
   ]
  },
  {
   "cell_type": "code",
   "execution_count": 19,
   "metadata": {},
   "outputs": [],
   "source": [
    "# Convert Quality Flag to string ===============\n",
    "sample_t['ph_qual']  = [inp.decode('utf-8') for inp in sample_t['ph_qual']]\n",
    "sample_w['ph_qual']  = [inp.decode('utf-8') for inp in sample_w['ph_qual']]\n",
    "sample_w['cc_flag']  = [inp.decode('utf-8') for inp in sample_w['cc_flag']]\n",
    "\n",
    "# Rename for later =============================\n",
    "sample_t['2MASS_ID'] = [inp.decode('utf-8') for inp in sample_t['original_ext_source_id']]\n",
    "sample_t.remove_columns(['original_ext_source_id', 'ra', 'dec']) # To avoid duplicated Ra, Dec"
   ]
  },
  {
   "cell_type": "code",
   "execution_count": 20,
   "metadata": {},
   "outputs": [
    {
     "name": "stdout",
     "output_type": "stream",
     "text": [
      "Merged Sample ==========\n",
      "MERGED N_els:        332\n"
     ]
    }
   ],
   "source": [
    "# Merge WISE & 2MASS catalogues ================\n",
    "merged = join(sample_w, sample_t, keys='source_id')\n",
    "\n",
    "# Create new columns ===========================\n",
    "merged['Ks_flag']   = [inp[-1:] for inp in merged['ph_qual_2']] # Extract Ks Quality Flags for later (see below)\n",
    "merged['W1_flag']   = [inp[0:1] for inp in merged['ph_qual_1']] # Extract W1 Quality Flags for later (see below)\n",
    "merged['W2_flag']   = [inp[1:2] for inp in merged['ph_qual_1']] # Extract W2 Quality Flags for later (see below)\n",
    "merged['W3_flag']   = [inp[2:3] for inp in merged['ph_qual_1']] # Extract W3 Quality Flags for later (see below)\n",
    "merged['W4_flag']   = [inp[3:4] for inp in merged['ph_qual_1']] # Extract W4 Quality Flags for later (see below)\n",
    "\n",
    "print('Merged Sample ==========')\n",
    "print(f'MERGED N_els: {len(merged):10.0f}')"
   ]
  },
  {
   "cell_type": "code",
   "execution_count": 21,
   "metadata": {},
   "outputs": [
    {
     "name": "stdout",
     "output_type": "stream",
     "text": [
      "CLEANED Merged Sample =============\n",
      "MERGED N_els:         91\n"
     ]
    }
   ],
   "source": [
    "# Clean sample =================================\n",
    "els_1_1     = (merged['W1_flag'] == 'A') | (merged['W1_flag'] == 'B')\n",
    "els_1_2     = (merged['W2_flag'] == 'A') | (merged['W2_flag'] == 'B')\n",
    "els_1_3     = (merged['W3_flag'] == 'A') | (merged['W3_flag'] == 'B')\n",
    "els_1_4     = (merged['W4_flag'] == 'A') | (merged['W4_flag'] == 'B')\n",
    "\n",
    "els_1     = els_1_1 & els_1_2 & els_1_3 & els_1_4   # Photometry Quality Flag\n",
    "els_2     = merged['ext_flag'] <2                   # Extended Source Flag\n",
    "els_3     = merged['cc_flag'] == '0000'             # Artifact Flag\n",
    "merged_cl = merged[els_1 & els_2 & els_3]\n",
    "\n",
    "print('CLEANED Merged Sample =============')\n",
    "print(f'MERGED N_els: {len(merged_cl):10.0f}')\n",
    "\n",
    "# Sanity Check for 2MASS photometry ============\n",
    "for inp in merged_cl['ph_qual_2']:\n",
    "    if inp != 'AAA': print('QFlag != AAA')"
   ]
  },
  {
   "cell_type": "code",
   "execution_count": 22,
   "metadata": {},
   "outputs": [
    {
     "name": "stdout",
     "output_type": "stream",
     "text": [
      "Control Sources in 2MASS & WISE:  36\n"
     ]
    },
    {
     "data": {
      "text/html": [
       "<i>Table masked=True length=3</i>\n",
       "<table id=\"table4810943792\" class=\"table-striped table-bordered table-condensed\">\n",
       "<thead><tr><th>ra</th><th>dec</th><th>source_id</th><th>ph_qual_1</th><th>W1mag</th><th>W2mag</th><th>W3mag</th><th>W4mag</th><th>e_W1mag</th><th>e_W2mag</th><th>e_W3mag</th><th>e_W4mag</th><th>ext_flag</th><th>cc_flag</th><th>ph_qual_2</th><th>Jmag</th><th>Hmag</th><th>Kmag</th><th>e_Jmag</th><th>e_Hmag</th><th>e_Kmag</th><th>2MASS_ID</th><th>Ks_flag</th><th>W1_flag</th><th>W2_flag</th><th>W3_flag</th><th>W4_flag</th><th>control</th></tr></thead>\n",
       "<thead><tr><th>deg</th><th>deg</th><th></th><th></th><th>mag</th><th>mag</th><th>mag</th><th>mag</th><th>mag</th><th>mag</th><th>mag</th><th>mag</th><th></th><th></th><th></th><th>mag</th><th>mag</th><th>mag</th><th>mag</th><th>mag</th><th>mag</th><th></th><th></th><th></th><th></th><th></th><th></th><th></th></tr></thead>\n",
       "<thead><tr><th>float64</th><th>float64</th><th>int64</th><th>str4</th><th>float64</th><th>float64</th><th>float64</th><th>float64</th><th>float64</th><th>float64</th><th>float64</th><th>float64</th><th>int16</th><th>str4</th><th>str3</th><th>float32</th><th>float32</th><th>float32</th><th>float32</th><th>float32</th><th>float32</th><th>str16</th><th>str1</th><th>str1</th><th>str1</th><th>str1</th><th>str1</th><th>str1</th></tr></thead>\n",
       "<tr><td>247.28758310176093</td><td>-25.250905482892907</td><td>6046026394590627840</td><td>AAAA</td><td>11.29</td><td>10.823</td><td>8.997</td><td>7.073</td><td>0.023</td><td>0.021</td><td>0.039</td><td>0.108</td><td>0</td><td>0000</td><td>AAA</td><td>12.525</td><td>11.884</td><td>11.573</td><td>0.03</td><td>0.023</td><td>0.019</td><td>16290902-2515028</td><td>A</td><td>A</td><td>A</td><td>A</td><td>A</td><td>N</td></tr>\n",
       "<tr><td>247.64440012865387</td><td>-25.094984608947964</td><td>6046050515126945792</td><td>AAAB</td><td>11.312</td><td>10.983</td><td>9.977</td><td>7.233</td><td>0.023</td><td>0.023</td><td>0.095</td><td>0.134</td><td>1</td><td>0000</td><td>AAA</td><td>12.65</td><td>11.962</td><td>11.65</td><td>0.024</td><td>0.024</td><td>0.019</td><td>16303466-2505415</td><td>A</td><td>A</td><td>A</td><td>A</td><td>B</td><td>N</td></tr>\n",
       "<tr><td>247.39151318278175</td><td>-24.925228886813606</td><td>6046069030727803136</td><td>AAAB</td><td>8.371</td><td>8.364</td><td>8.353</td><td>7.958</td><td>0.024</td><td>0.02</td><td>0.032</td><td>0.27</td><td>0</td><td>0000</td><td>AAA</td><td>9.425</td><td>8.758</td><td>8.531</td><td>0.039</td><td>0.038</td><td>0.019</td><td>16293397-2455303</td><td>A</td><td>A</td><td>A</td><td>A</td><td>B</td><td>Y</td></tr>\n",
       "</table>"
      ],
      "text/plain": [
       "<Table masked=True length=3>\n",
       "        ra                 dec              source_id      ... W4_flag control\n",
       "       deg                 deg                             ...                \n",
       "     float64             float64              int64        ...   str1    str1 \n",
       "------------------ ------------------- ------------------- ... ------- -------\n",
       "247.28758310176093 -25.250905482892907 6046026394590627840 ...       A       N\n",
       "247.64440012865387 -25.094984608947964 6046050515126945792 ...       B       N\n",
       "247.39151318278175 -24.925228886813606 6046069030727803136 ...       B       Y"
      ]
     },
     "execution_count": 22,
     "metadata": {},
     "output_type": "execute_result"
    }
   ],
   "source": [
    "# Find Control sample elements =================\n",
    "sample_control['control'] = ['Y'] * len(sample_control) # Add Column\n",
    "\n",
    "merged_cl = join(merged_cl, sample_control['control', 'source_id'], keys='source_id', join_type='left')\n",
    "merged_cl['control'][merged_cl['control'].mask == True] = 'N'\n",
    "\n",
    "inp = len(merged_cl[ merged_cl['control'] == 'Y'])\n",
    "print(f'Control Sources in 2MASS & WISE:  {inp}')\n",
    "\n",
    "\n",
    "merged_cl[0:3]"
   ]
  },
  {
   "cell_type": "code",
   "execution_count": 23,
   "metadata": {},
   "outputs": [],
   "source": [
    "# Include SIMBAD MAIN IDs ======================\n",
    "simbad = Table.read('simbad.xml')\n",
    "simbad = simbad['TYPED_ID', 'MAIN_ID', 'NB_REF']\n",
    "simbad['source_id'] = [np.int(inp[9:].decode('utf-8')) for inp in simbad['TYPED_ID']]\n",
    "\n",
    "merged_cl = join(merged_cl, simbad, keys='source_id', join_type='left')\n",
    "merged_cl['NB_REF'][merged_cl['NB_REF'].mask == True] = 0\n",
    "\n",
    "# Remove flag cols =============================\n",
    "merged_cl.remove_columns(['ext_flag', 'cc_flag', 'Ks_flag', 'W1_flag', 'W2_flag', 'W3_flag', 'W4_flag', 'TYPED_ID','MAIN_ID'])"
   ]
  },
  {
   "cell_type": "code",
   "execution_count": 24,
   "metadata": {},
   "outputs": [
    {
     "data": {
      "text/html": [
       "<i>Table masked=True length=3</i>\n",
       "<table id=\"table4816456672\" class=\"table-striped table-bordered table-condensed\">\n",
       "<thead><tr><th>ra</th><th>dec</th><th>source_id</th><th>ph_qual_1</th><th>W1mag</th><th>W2mag</th><th>W3mag</th><th>W4mag</th><th>e_W1mag</th><th>e_W2mag</th><th>e_W3mag</th><th>e_W4mag</th><th>ph_qual_2</th><th>Jmag</th><th>Hmag</th><th>Kmag</th><th>e_Jmag</th><th>e_Hmag</th><th>e_Kmag</th><th>2MASS_ID</th><th>control</th><th>NB_REF</th><th>artifact</th></tr></thead>\n",
       "<thead><tr><th>deg</th><th>deg</th><th></th><th></th><th>mag</th><th>mag</th><th>mag</th><th>mag</th><th>mag</th><th>mag</th><th>mag</th><th>mag</th><th></th><th>mag</th><th>mag</th><th>mag</th><th>mag</th><th>mag</th><th>mag</th><th></th><th></th><th></th><th></th></tr></thead>\n",
       "<thead><tr><th>float64</th><th>float64</th><th>int64</th><th>str4</th><th>float64</th><th>float64</th><th>float64</th><th>float64</th><th>float64</th><th>float64</th><th>float64</th><th>float64</th><th>str3</th><th>float32</th><th>float32</th><th>float32</th><th>float32</th><th>float32</th><th>float32</th><th>str16</th><th>str1</th><th>int32</th><th>str1</th></tr></thead>\n",
       "<tr><td>244.34004994892663</td><td>-23.416885441288162</td><td>6050346856816823552</td><td>AAAB</td><td>10.64</td><td>10.474</td><td>10.397</td><td>8.399</td><td>0.024</td><td>0.021</td><td>0.089</td><td>0.334</td><td>AAA</td><td>11.753</td><td>11.069</td><td>10.798</td><td>0.026</td><td>0.024</td><td>0.024</td><td>16172162-2325004</td><td>N</td><td>1</td><td>N</td></tr>\n",
       "<tr><td>244.46152573259377</td><td>-22.30280407533479</td><td>6050574730599548288</td><td>AAAA</td><td>10.744</td><td>10.22</td><td>8.178</td><td>6.507</td><td>0.024</td><td>0.02</td><td>0.022</td><td>0.066</td><td>AAA</td><td>12.126</td><td>11.552</td><td>11.189</td><td>0.023</td><td>0.024</td><td>0.023</td><td>16175077-2218096</td><td>N</td><td>0</td><td>N</td></tr>\n",
       "<tr><td>244.56018406553224</td><td>-23.3237856296886</td><td>6050352010777437952</td><td>AAAA</td><td>9.71</td><td>9.098</td><td>7.602</td><td>5.563</td><td>0.023</td><td>0.02</td><td>0.021</td><td>0.047</td><td>AAA</td><td>11.605</td><td>10.772</td><td>10.302</td><td>0.029</td><td>0.027</td><td>0.024</td><td>16181445-2319251</td><td>N</td><td>0</td><td>N</td></tr>\n",
       "</table>"
      ],
      "text/plain": [
       "<Table masked=True length=3>\n",
       "        ra                 dec              source_id      ... NB_REF artifact\n",
       "       deg                 deg                             ...                \n",
       "     float64             float64              int64        ... int32    str1  \n",
       "------------------ ------------------- ------------------- ... ------ --------\n",
       "244.34004994892663 -23.416885441288162 6050346856816823552 ...      1        N\n",
       "244.46152573259377  -22.30280407533479 6050574730599548288 ...      0        N\n",
       "244.56018406553224   -23.3237856296886 6050352010777437952 ...      0        N"
      ]
     },
     "execution_count": 24,
     "metadata": {},
     "output_type": "execute_result"
    }
   ],
   "source": [
    "# Save Table ===================================\n",
    "merged_cl.write('08_IR_crossmatch.vot', format = 'votable', overwrite = True)\n",
    "\n",
    "\n",
    "#Export for WISE verification ==================\n",
    "file = '08_IR_crossmatch_WISE_check.txt' # Input file for IPAC/WISE webpage. WISE (.fits) maps for each source are downloaded from here.\n",
    "merged_cl['artifact'] = ['N'] * len(merged_cl)\n",
    "merged_cl.sort('ra')\n",
    "merged_cl['ra', 'dec', 'source_id', 'artifact'].write(file, format ='ipac', overwrite = True)\n",
    "    \n",
    "merged_cl[0:3]"
   ]
  },
  {
   "cell_type": "code",
   "execution_count": 25,
   "metadata": {},
   "outputs": [
    {
     "data": {
      "text/plain": [
       "(91, 36, 55, 68)"
      ]
     },
     "execution_count": 25,
     "metadata": {},
     "output_type": "execute_result"
    }
   ],
   "source": [
    "# Quick Sanity Check ====\n",
    "len(merged_cl), len(merged_cl[merged_cl['control'] == 'Y']), len(merged_cl[merged_cl['control'] == 'N']), len(merged_cl[merged_cl['NB_REF'] == 0]) "
   ]
  },
  {
   "cell_type": "code",
   "execution_count": null,
   "metadata": {},
   "outputs": [],
   "source": []
  }
 ],
 "metadata": {
  "kernelspec": {
   "display_name": "Python 3",
   "language": "python",
   "name": "python3"
  },
  "language_info": {
   "codemirror_mode": {
    "name": "ipython",
    "version": 3
   },
   "file_extension": ".py",
   "mimetype": "text/x-python",
   "name": "python",
   "nbconvert_exporter": "python",
   "pygments_lexer": "ipython3",
   "version": "3.6.8"
  }
 },
 "nbformat": 4,
 "nbformat_minor": 2
}
