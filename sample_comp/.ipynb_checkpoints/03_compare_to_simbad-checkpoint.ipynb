{
 "cells": [
  {
   "cell_type": "markdown",
   "metadata": {
    "collapsed": true
   },
   "source": [
    "## Compare new-common sample to literature (SIMBAD)"
   ]
  },
  {
   "cell_type": "code",
   "execution_count": 1,
   "metadata": {},
   "outputs": [],
   "source": [
    "import os, glob, getpass, sys\n",
    "import warnings\n",
    "\n",
    "import numpy as np\n",
    "import matplotlib.pyplot as plt\n",
    "from astropy.table import Table, join, vstack, hstack, Column, MaskedColumn, unique\n",
    "from astropy.utils.exceptions import AstropyWarning\n",
    "from astropy import units as u\n",
    "from collections import Counter\n",
    "\n",
    "user = getpass.getuser()\n",
    "sys.path.append('/Users/' + user + '/Dropbox/my_python_packages')\n",
    "path = '../'\n",
    "sys.path.append(path)\n",
    "\n",
    "from gaia.cluster_comparison_n import Comparison_n as Comparison\n",
    "from extra_codes import sample_initial as samp_ini, sample_comp as samp_comp"
   ]
  },
  {
   "cell_type": "code",
   "execution_count": 6,
   "metadata": {},
   "outputs": [
    {
     "name": "stdout",
     "output_type": "stream",
     "text": [
      "Common-NO-Control in Simbad:                  77 Elements\n",
      "Common-NO-Control NOT in Simbad (NEW!!):     166 Elements\n"
     ]
    },
    {
     "data": {
      "text/html": [
       "<i>Table masked=True length=3</i>\n",
       "<table id=\"table4919151472\" class=\"table-striped table-bordered table-condensed\">\n",
       "<thead><tr><th>TYPED_ID</th><th>MAIN_ID</th><th>OTYPE_S</th><th>RA_d</th><th>DEC_d</th><th>FLUX_BIBCODE_J</th><th>NB_REF</th></tr></thead>\n",
       "<thead><tr><th></th><th></th><th></th><th>deg</th><th>deg</th><th></th><th></th></tr></thead>\n",
       "<thead><tr><th>object</th><th>object</th><th>object</th><th>float64</th><th>float64</th><th>object</th><th>int32</th></tr></thead>\n",
       "<tr><td>Gaia dr2 6050333112920811776</td><td>2MASS J16155926-2329363</td><td>brownD*</td><td>243.99693062</td><td>-23.49343210</td><td>2003yCat.2246....0C</td><td>8</td></tr>\n",
       "<tr><td>Gaia dr2 6050119498424114432</td><td>2MASS J16164396-2351257</td><td>brownD*</td><td>244.18318366</td><td>-23.85715638</td><td>2007MNRAS.374..372L</td><td>1</td></tr>\n",
       "<tr><td>Gaia dr2 6050345104469958400</td><td>2MASS J16170148-2329058</td><td>brownD*</td><td>244.25618444</td><td>-23.48493246</td><td>2007MNRAS.374..372L</td><td>1</td></tr>\n",
       "</table>"
      ],
      "text/plain": [
       "<Table masked=True length=3>\n",
       "          TYPED_ID                   MAIN_ID         ... NB_REF\n",
       "                                                     ...       \n",
       "           object                     object         ... int32 \n",
       "---------------------------- ----------------------- ... ------\n",
       "Gaia dr2 6050333112920811776 2MASS J16155926-2329363 ...      8\n",
       "Gaia dr2 6050119498424114432 2MASS J16164396-2351257 ...      1\n",
       "Gaia dr2 6050345104469958400 2MASS J16170148-2329058 ...      1"
      ]
     },
     "execution_count": 6,
     "metadata": {},
     "output_type": "execute_result"
    }
   ],
   "source": [
    "# Path to data =================================\n",
    "warnings.simplefilter('ignore', AstropyWarning)\n",
    "cols   = ['TYPED_ID', 'MAIN_ID', 'OTYPE_S', 'RA_d', 'DEC_d', 'FLUX_BIBCODE_J', 'NB_REF']\n",
    "\n",
    "common = Table.read('common_sample_case_0.vot', format = 'votable')\n",
    "new    = common[common['Control'] == 'N']\n",
    "simbad = Table.read('simbad.xml', format = 'votable')\n",
    "simbad = simbad[cols]\n",
    "simbad.sort('RA_d')\n",
    "\n",
    "print(f'Common-NO-Control in Simbad:             {len(simbad):>7.0f} Elements')\n",
    "print(f'Common-NO-Control NOT in Simbad (NEW!!): {len(new) - len(simbad):>7.0f} Elements')\n",
    "\n",
    "simbad[0:3]"
   ]
  },
  {
   "cell_type": "code",
   "execution_count": 7,
   "metadata": {},
   "outputs": [
    {
     "data": {
      "text/html": [
       "<i>Table masked=True length=5</i>\n",
       "<table id=\"table4918656584\" class=\"table-striped table-bordered table-condensed\">\n",
       "<thead><tr><th>TYPED_ID</th><th>MAIN_ID</th><th>OTYPE_S</th><th>RA_d</th><th>DEC_d</th><th>FLUX_BIBCODE_J</th><th>NB_REF</th></tr></thead>\n",
       "<thead><tr><th></th><th></th><th></th><th>deg</th><th>deg</th><th></th><th></th></tr></thead>\n",
       "<thead><tr><th>object</th><th>object</th><th>object</th><th>float64</th><th>float64</th><th>object</th><th>int32</th></tr></thead>\n",
       "<tr><td>Gaia dr2 6049011053265501056</td><td>HD 147701</td><td>Star</td><td>246.08882697</td><td>-25.02540247</td><td>2003yCat.2246....0C</td><td>101</td></tr>\n",
       "<tr><td>Gaia dr2 6050945747052676352</td><td>* rho Oph C</td><td>Star</td><td>246.39618174</td><td>-23.40521910</td><td>2003yCat.2246....0C</td><td>96</td></tr>\n",
       "<tr><td>Gaia dr2 6047588594453743360</td><td>ROXs 43A</td><td>TTau*</td><td>247.83382793</td><td>-24.50140548</td><td>2003yCat.2246....0C</td><td>46</td></tr>\n",
       "<tr><td>Gaia dr2 6050352659313505536</td><td>HD 146706</td><td>V*</td><td>244.61773753</td><td>-23.27430241</td><td>2003yCat.2246....0C</td><td>46</td></tr>\n",
       "<tr><td>Gaia dr2 6050951072812273664</td><td>Haro 1-8</td><td>TTau*</td><td>246.69761733</td><td>-23.24783702</td><td>2003yCat.2246....0C</td><td>44</td></tr>\n",
       "</table>"
      ],
      "text/plain": [
       "<Table masked=True length=5>\n",
       "          TYPED_ID             MAIN_ID   OTYPE_S ...    FLUX_BIBCODE_J   NB_REF\n",
       "                                                 ...                           \n",
       "           object               object    object ...        object       int32 \n",
       "---------------------------- ----------- ------- ... ------------------- ------\n",
       "Gaia dr2 6049011053265501056   HD 147701    Star ... 2003yCat.2246....0C    101\n",
       "Gaia dr2 6050945747052676352 * rho Oph C    Star ... 2003yCat.2246....0C     96\n",
       "Gaia dr2 6047588594453743360    ROXs 43A   TTau* ... 2003yCat.2246....0C     46\n",
       "Gaia dr2 6050352659313505536   HD 146706      V* ... 2003yCat.2246....0C     46\n",
       "Gaia dr2 6050951072812273664    Haro 1-8   TTau* ... 2003yCat.2246....0C     44"
      ]
     },
     "execution_count": 7,
     "metadata": {},
     "output_type": "execute_result"
    }
   ],
   "source": [
    "# Examine the most famous (known )objects ======\n",
    "indexes = simbad.argsort(keys='NB_REF')[::-1]\n",
    "simbad  = simbad[indexes]\n",
    "simbad[0:5]"
   ]
  },
  {
   "cell_type": "code",
   "execution_count": 8,
   "metadata": {},
   "outputs": [],
   "source": [
    "# Prepare File for SIMBAD Script Query =========\n",
    "# This is to find who cites the objects in the common-control-no sample\n",
    "simbad_inp  = ['query id ' + inp.decode('utf-8') for inp in simbad['TYPED_ID']]\n",
    "Table([simbad_inp]).write('common_sample_case_0_no_control_known_simbad_script.txt', format = 'ascii.fast_no_header', overwrite = True)\n",
    "\n",
    "!open common_sample_case_0_no_control_known_simbad_script.txt"
   ]
  },
  {
   "cell_type": "code",
   "execution_count": null,
   "metadata": {},
   "outputs": [],
   "source": [
    "print()\n",
    "print('\"common_sample_case_0_no_control_known_simbad_script.txt\" IS CROSSED AGAINST SIMBAD-SCRIPT SERVICE TO find SIMBAD BIBCODES')\n",
    "print()\n",
    "print('THE OUTPUT IS SAVED IN THIS DIRECTORY AS simbad_bibcodes.txt')"
   ]
  },
  {
   "cell_type": "code",
   "execution_count": null,
   "metadata": {},
   "outputs": [],
   "source": [
    "# UPLOAD \"common_sample_case_0_no_control_known_simbad_script.txt\" TO THE SIMBAD SCRIPT (http://simbad.u-strasbg.fr/simbad/sim-fscript)\n",
    "# PAGE AND DOWNLOAD OUTPUT AS \"simbad_bibcodes.txt\"\n",
    "#Script Examples: \n",
    "\n",
    "#format object form1 \"%IDLIST(1) %COO(d;A) %COO(d;D) %BIBCODELIST\"\n",
    "#result full\n",
    "#query id Gaia dr2 6050346856816823552\n",
    "#query id Gaia dr2 6050345104469958400\n",
    "\n",
    "#format object form1 \"%IDLIST(1) %BIBCODELIST\"\n",
    "#result full\n",
    "#query id Gaia dr2 6050346856816823552\n",
    "#query id Gaia dr2 6050345104469958400"
   ]
  },
  {
   "cell_type": "code",
   "execution_count": null,
   "metadata": {},
   "outputs": [],
   "source": [
    "# Read SIMBAD bibcodes =========================\n",
    "bibcodes     = Table.read('simbad_bibcodes.txt', format = 'ascii.fast_no_header')\n",
    "bibcodes_set = [inp for inp in set(bibcodes['col1'])]\n",
    "\n",
    "print('Total bibcodes: ',      len(bibcodes))\n",
    "print('Individual bibcodes: ', len(bibcodes_set))\n",
    "\n",
    "counter = Counter(bibcodes['col1'])\n",
    "most_10 = counter.most_common(10)\n",
    "\n",
    "print()\n",
    "for inp in most_10:\n",
    "    print('Bibcode: ',inp[0], '  NRef: ',inp[1])"
   ]
  },
  {
   "cell_type": "markdown",
   "metadata": {},
   "source": [
    "# Prepare Vizier Queries"
   ]
  },
  {
   "cell_type": "code",
   "execution_count": null,
   "metadata": {},
   "outputs": [],
   "source": [
    "# Define Vizier Querier ================================\n",
    "simbad['vizier_id'] = [inp.decode('utf-8') for inp in simbad['TYPED_ID']]\n",
    "radii               = 0.5 * u.arcsecond"
   ]
  },
  {
   "cell_type": "code",
   "execution_count": null,
   "metadata": {},
   "outputs": [],
   "source": [
    "# Query VizieR for Luhman 2012 Catalogue ===============\n",
    "cat_2012_L = samp_ini.query_ids_1(simbad['vizier_id'], catalog='J/ApJ/758/31/table1', radius=radii, verbose=False)\n",
    "cat_2012_L = cat_2012_L['inp_id', '_r', 'Name', 'SpT']\n",
    "cat_2012_L"
   ]
  },
  {
   "cell_type": "code",
   "execution_count": null,
   "metadata": {},
   "outputs": [],
   "source": [
    "# Query VizieR for Rizutto 2015 Catalogue ==============\n",
    "cat_2015_R = samp_ini.query_ids_1(simbad['vizier_id'], catalog='J/MNRAS/448/2737/table2', radius=radii, verbose=False)\n",
    "cat_2015_R = cat_2015_R['inp_id', '_r', '_2MASS', 'SpT', 'AV']\n",
    "cat_2015_R"
   ]
  },
  {
   "cell_type": "code",
   "execution_count": null,
   "metadata": {},
   "outputs": [],
   "source": [
    "# Query VizieR for Kraus 2012 Catalogue ================\n",
    "cat_2007_K = samp_ini.query_ids_1(simbad['vizier_id'], catalog='J/ApJ/662/413/table2', radius=radii, verbose=False)\n",
    "cat_2007_K = cat_2007_K['inp_id', '_r', 'SimbadName']\n",
    "cat_2007_K"
   ]
  },
  {
   "cell_type": "code",
   "execution_count": null,
   "metadata": {},
   "outputs": [],
   "source": [
    "# Merge Catalogues and search for duplicates =====\n",
    "merged = vstack([cat_2007_K, cat_2012_L, cat_2015_R])\n",
    "merged = unique(merged, keys='inp_id')\n",
    "\n",
    "print(len(cat_2007_K), len(cat_2015_R), len(cat_2012_L), len(merged))"
   ]
  },
  {
   "cell_type": "code",
   "execution_count": null,
   "metadata": {},
   "outputs": [],
   "source": []
  }
 ],
 "metadata": {
  "kernelspec": {
   "display_name": "Python 3",
   "language": "python",
   "name": "python3"
  },
  "language_info": {
   "codemirror_mode": {
    "name": "ipython",
    "version": 3
   },
   "file_extension": ".py",
   "mimetype": "text/x-python",
   "name": "python",
   "nbconvert_exporter": "python",
   "pygments_lexer": "ipython3",
   "version": "3.6.8"
  }
 },
 "nbformat": 4,
 "nbformat_minor": 2
}
