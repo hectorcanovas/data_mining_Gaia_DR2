{
 "cells": [
  {
   "cell_type": "markdown",
   "metadata": {
    "collapsed": true
   },
   "source": [
    "## Compare new-common sample to literature (SIMBAD)"
   ]
  },
  {
   "cell_type": "code",
   "execution_count": 1,
   "metadata": {},
   "outputs": [],
   "source": [
    "import os, glob, getpass, sys\n",
    "import warnings\n",
    "\n",
    "import numpy as np\n",
    "import matplotlib.pyplot as plt\n",
    "from astropy.table import Table, join, vstack, hstack, Column, MaskedColumn, unique\n",
    "from astropy.utils.exceptions import AstropyWarning\n",
    "from astropy import units as u\n",
    "from collections import Counter\n",
    "\n",
    "user = getpass.getuser()\n",
    "sys.path.append('/Users/' + user + '/Dropbox/my_python_packages')\n",
    "path = '../' \n",
    "sys.path.append(path)\n",
    "\n",
    "from gaia.cluster_comparison_n import Comparison_n as Comparison\n",
    "from extra_codes import sample_initial as samp_ini, sample_comp as samp_comp"
   ]
  },
  {
   "cell_type": "code",
   "execution_count": 2,
   "metadata": {},
   "outputs": [
    {
     "name": "stdout",
     "output_type": "stream",
     "text": [
      "Common-NO-Control in Simbad:                  77 Elements\n",
      "Common-NO-Control NOT in Simbad (NEW!!):     166 Elements\n"
     ]
    },
    {
     "data": {
      "text/html": [
       "<i>Table masked=True length=3</i>\n",
       "<table id=\"table4970906400\" class=\"table-striped table-bordered table-condensed\">\n",
       "<thead><tr><th>TYPED_ID</th><th>MAIN_ID</th><th>OTYPE_S</th><th>RA_d</th><th>DEC_d</th><th>FLUX_BIBCODE_J</th><th>NB_REF</th></tr></thead>\n",
       "<thead><tr><th></th><th></th><th></th><th>deg</th><th>deg</th><th></th><th></th></tr></thead>\n",
       "<thead><tr><th>object</th><th>object</th><th>object</th><th>float64</th><th>float64</th><th>object</th><th>int32</th></tr></thead>\n",
       "<tr><td>Gaia dr2 6050333112920811776</td><td>2MASS J16155926-2329363</td><td>brownD*</td><td>243.99693062</td><td>-23.49343210</td><td>2003yCat.2246....0C</td><td>8</td></tr>\n",
       "<tr><td>Gaia dr2 6050119498424114432</td><td>2MASS J16164396-2351257</td><td>brownD*</td><td>244.18318366</td><td>-23.85715638</td><td>2007MNRAS.374..372L</td><td>1</td></tr>\n",
       "<tr><td>Gaia dr2 6050345104469958400</td><td>2MASS J16170148-2329058</td><td>brownD*</td><td>244.25618444</td><td>-23.48493246</td><td>2007MNRAS.374..372L</td><td>1</td></tr>\n",
       "</table>"
      ],
      "text/plain": [
       "<Table masked=True length=3>\n",
       "          TYPED_ID                   MAIN_ID         ... NB_REF\n",
       "                                                     ...       \n",
       "           object                     object         ... int32 \n",
       "---------------------------- ----------------------- ... ------\n",
       "Gaia dr2 6050333112920811776 2MASS J16155926-2329363 ...      8\n",
       "Gaia dr2 6050119498424114432 2MASS J16164396-2351257 ...      1\n",
       "Gaia dr2 6050345104469958400 2MASS J16170148-2329058 ...      1"
      ]
     },
     "execution_count": 2,
     "metadata": {},
     "output_type": "execute_result"
    }
   ],
   "source": [
    "# Path to data =================================\n",
    "warnings.simplefilter('ignore', AstropyWarning)\n",
    "cols   = ['TYPED_ID', 'MAIN_ID', 'OTYPE_S', 'RA_d', 'DEC_d', 'FLUX_BIBCODE_J', 'NB_REF']\n",
    "\n",
    "common = Table.read('common_sample_case_0.vot', format = 'votable')\n",
    "new    = common[common['Control'] == 'N']\n",
    "simbad = Table.read('simbad.xml', format = 'votable')\n",
    "simbad = simbad[cols]\n",
    "simbad.sort('RA_d')\n",
    "\n",
    "print(f'Common-NO-Control in Simbad:             {len(simbad):>7.0f} Elements')\n",
    "print(f'Common-NO-Control NOT in Simbad (NEW!!): {len(new) - len(simbad):>7.0f} Elements')\n",
    "\n",
    "simbad[0:3]"
   ]
  },
  {
   "cell_type": "code",
   "execution_count": 3,
   "metadata": {},
   "outputs": [
    {
     "data": {
      "text/html": [
       "<i>Table masked=True length=5</i>\n",
       "<table id=\"table4525538440\" class=\"table-striped table-bordered table-condensed\">\n",
       "<thead><tr><th>TYPED_ID</th><th>MAIN_ID</th><th>OTYPE_S</th><th>RA_d</th><th>DEC_d</th><th>FLUX_BIBCODE_J</th><th>NB_REF</th></tr></thead>\n",
       "<thead><tr><th></th><th></th><th></th><th>deg</th><th>deg</th><th></th><th></th></tr></thead>\n",
       "<thead><tr><th>object</th><th>object</th><th>object</th><th>float64</th><th>float64</th><th>object</th><th>int32</th></tr></thead>\n",
       "<tr><td>Gaia dr2 6049011053265501056</td><td>HD 147701</td><td>Star</td><td>246.08882697</td><td>-25.02540247</td><td>2003yCat.2246....0C</td><td>101</td></tr>\n",
       "<tr><td>Gaia dr2 6050945747052676352</td><td>* rho Oph C</td><td>Star</td><td>246.39618174</td><td>-23.40521910</td><td>2003yCat.2246....0C</td><td>96</td></tr>\n",
       "<tr><td>Gaia dr2 6047588594453743360</td><td>ROXs 43A</td><td>TTau*</td><td>247.83382793</td><td>-24.50140548</td><td>2003yCat.2246....0C</td><td>46</td></tr>\n",
       "<tr><td>Gaia dr2 6050352659313505536</td><td>HD 146706</td><td>V*</td><td>244.61773753</td><td>-23.27430241</td><td>2003yCat.2246....0C</td><td>46</td></tr>\n",
       "<tr><td>Gaia dr2 6050951072812273664</td><td>Haro 1-8</td><td>TTau*</td><td>246.69761733</td><td>-23.24783702</td><td>2003yCat.2246....0C</td><td>44</td></tr>\n",
       "</table>"
      ],
      "text/plain": [
       "<Table masked=True length=5>\n",
       "          TYPED_ID             MAIN_ID   OTYPE_S ...    FLUX_BIBCODE_J   NB_REF\n",
       "                                                 ...                           \n",
       "           object               object    object ...        object       int32 \n",
       "---------------------------- ----------- ------- ... ------------------- ------\n",
       "Gaia dr2 6049011053265501056   HD 147701    Star ... 2003yCat.2246....0C    101\n",
       "Gaia dr2 6050945747052676352 * rho Oph C    Star ... 2003yCat.2246....0C     96\n",
       "Gaia dr2 6047588594453743360    ROXs 43A   TTau* ... 2003yCat.2246....0C     46\n",
       "Gaia dr2 6050352659313505536   HD 146706      V* ... 2003yCat.2246....0C     46\n",
       "Gaia dr2 6050951072812273664    Haro 1-8   TTau* ... 2003yCat.2246....0C     44"
      ]
     },
     "execution_count": 3,
     "metadata": {},
     "output_type": "execute_result"
    }
   ],
   "source": [
    "# Examine the most famous (known )objects ======\n",
    "indexes = simbad.argsort(keys='NB_REF')[::-1]\n",
    "simbad  = simbad[indexes]\n",
    "simbad[0:5]"
   ]
  },
  {
   "cell_type": "code",
   "execution_count": 4,
   "metadata": {},
   "outputs": [],
   "source": [
    "# Prepare File for SIMBAD Script Query =========\n",
    "# This is to find who cites the objects in the common-control-no sample\n",
    "simbad_inp  = ['query id ' + inp.decode('utf-8') for inp in simbad['TYPED_ID']]\n",
    "Table([simbad_inp]).write('common_sample_case_0_no_control_known_simbad_script.txt', format = 'ascii.fast_no_header', overwrite = True)\n",
    "\n",
    "!open common_sample_case_0_no_control_known_simbad_script.txt"
   ]
  },
  {
   "cell_type": "code",
   "execution_count": 5,
   "metadata": {},
   "outputs": [
    {
     "name": "stdout",
     "output_type": "stream",
     "text": [
      "\n",
      "\"common_sample_case_0_no_control_known_simbad_script.txt\" IS CROSSED AGAINST SIMBAD-SCRIPT SERVICE TO find SIMBAD BIBCODES\n",
      "\n",
      "THE OUTPUT IS SAVED IN THIS DIRECTORY AS simbad_bibcodes.txt\n"
     ]
    }
   ],
   "source": [
    "print()\n",
    "print('\"common_sample_case_0_no_control_known_simbad_script.txt\" IS CROSSED AGAINST SIMBAD-SCRIPT SERVICE TO find SIMBAD BIBCODES')\n",
    "print()\n",
    "print('THE OUTPUT IS SAVED IN THIS DIRECTORY AS simbad_bibcodes.txt')"
   ]
  },
  {
   "cell_type": "code",
   "execution_count": 6,
   "metadata": {},
   "outputs": [],
   "source": [
    "# UPLOAD \"common_sample_case_0_no_control_known_simbad_script.txt\" TO THE SIMBAD SCRIPT (http://simbad.u-strasbg.fr/simbad/sim-fscript)\n",
    "# PAGE AND DOWNLOAD OUTPUT AS \"simbad_bibcodes.txt\"\n",
    "#Script Examples: \n",
    "\n",
    "#format object form1 \"%IDLIST(1) %COO(d;A) %COO(d;D) %BIBCODELIST\"\n",
    "#result full\n",
    "#query id Gaia dr2 6050346856816823552\n",
    "#query id Gaia dr2 6050345104469958400\n",
    "\n",
    "#format object form1 \"%IDLIST(1) %BIBCODELIST\"\n",
    "#result full\n",
    "#query id Gaia dr2 6050346856816823552\n",
    "#query id Gaia dr2 6050345104469958400"
   ]
  },
  {
   "cell_type": "code",
   "execution_count": 7,
   "metadata": {},
   "outputs": [
    {
     "name": "stdout",
     "output_type": "stream",
     "text": [
      "Total bibcodes:  932\n",
      "Individual bibcodes:  407\n",
      "\n",
      "Bibcode:  2012ApJ...758...31L   NRef:  26\n",
      "Bibcode:  2016ApJS..224....2H   NRef:  24\n",
      "Bibcode:  2003A&A...404..913S   NRef:  20\n",
      "Bibcode:  2015MNRAS.448.2737R   NRef:  20\n",
      "Bibcode:  2017ApJ...837...95B   NRef:  18\n",
      "Bibcode:  2015ApJ...813...83C   NRef:  16\n",
      "Bibcode:  2007ApJ...667..308C   NRef:  14\n",
      "Bibcode:  2007ApJ...662..413K   NRef:  14\n",
      "Bibcode:  2005A&A...438..769D   NRef:  12\n",
      "Bibcode:  1998MNRAS.300..733M   NRef:  11\n"
     ]
    }
   ],
   "source": [
    "# Read SIMBAD bibcodes =========================\n",
    "bibcodes     = Table.read('simbad_bibcodes.txt', format = 'ascii.fast_no_header')\n",
    "bibcodes_set = [inp for inp in set(bibcodes['col1'])]\n",
    "\n",
    "print('Total bibcodes: ',      len(bibcodes))\n",
    "print('Individual bibcodes: ', len(bibcodes_set))\n",
    "\n",
    "counter = Counter(bibcodes['col1'])\n",
    "most_10 = counter.most_common(10)\n",
    "\n",
    "print()\n",
    "for inp in most_10:\n",
    "    print('Bibcode: ',inp[0], '  NRef: ',inp[1])"
   ]
  },
  {
   "cell_type": "markdown",
   "metadata": {},
   "source": [
    "# Prepare Vizier Queries"
   ]
  },
  {
   "cell_type": "code",
   "execution_count": 8,
   "metadata": {},
   "outputs": [],
   "source": [
    "# Define Vizier Querier ================================\n",
    "simbad['vizier_id'] = [inp.decode('utf-8') for inp in simbad['TYPED_ID']]\n",
    "radii               = 0.5 * u.arcsecond"
   ]
  },
  {
   "cell_type": "code",
   "execution_count": 9,
   "metadata": {},
   "outputs": [
    {
     "data": {
      "text/html": [
       "<i>Table masked=True length=25</i>\n",
       "<table id=\"table4972838248\" class=\"table-striped table-bordered table-condensed\">\n",
       "<thead><tr><th>inp_id</th><th>_r</th><th>Name</th><th>SpT</th></tr></thead>\n",
       "<thead><tr><th></th><th>arcsec</th><th></th><th></th></tr></thead>\n",
       "<thead><tr><th>str28</th><th>float64</th><th>bytes28</th><th>bytes8</th></tr></thead>\n",
       "<tr><td>Gaia dr2 6045914377549499648</td><td>0.04</td><td>2MASS J16270217-2542346</td><td>M6</td></tr>\n",
       "<tr><td>Gaia dr2 6048976762246802944</td><td>0.11</td><td>2MASS J16233234-2523485</td><td>G1</td></tr>\n",
       "<tr><td>Gaia dr2 6049011053265501056</td><td>0.05</td><td>2MASS J16242132-2501314</td><td>B5III</td></tr>\n",
       "<tr><td>Gaia dr2 6049226042146798592</td><td>0.38</td><td>2MASS J16235470-2438319</td><td>M6</td></tr>\n",
       "<tr><td>Gaia dr2 6049277886695322880</td><td>0.07</td><td>2MASS J16203456-2430205</td><td>M6.5</td></tr>\n",
       "<tr><td>Gaia dr2 6050067061167006720</td><td>0.04</td><td>2MASS J16200757-2359150</td><td>M6</td></tr>\n",
       "<tr><td>Gaia dr2 6050070531500394240</td><td>0.24</td><td>2MASS J16210222-2358395</td><td>M5.25</td></tr>\n",
       "<tr><td>Gaia dr2 6050087677009711744</td><td>0.11</td><td>2MASS J16204596-2348208</td><td>K3</td></tr>\n",
       "<tr><td>Gaia dr2 6050104582001653376</td><td>0.17</td><td>2MASS J16182082-2401502</td><td>M5.5</td></tr>\n",
       "<tr><td>...</td><td>...</td><td>...</td><td>...</td></tr>\n",
       "<tr><td>Gaia dr2 6050373760491905920</td><td>0.20</td><td>2MASS J16173138-2303360</td><td>G1V</td></tr>\n",
       "<tr><td>Gaia dr2 6050449283194168576</td><td>0.25</td><td>2MASS J16190474-2307526</td><td>M5.5</td></tr>\n",
       "<tr><td>Gaia dr2 6050496459111584384</td><td>0.19</td><td>2MASS J16205022-2235387</td><td>A9V</td></tr>\n",
       "<tr><td>Gaia dr2 6050583969069510272</td><td>0.05</td><td>2MASS J16184074-2209482</td><td>M6</td></tr>\n",
       "<tr><td>Gaia dr2 6050945747052676352</td><td>0.26</td><td>2MASS J16253507-2324186</td><td>B8</td></tr>\n",
       "<tr><td>Gaia dr2 6051097681519794944</td><td>0.14</td><td>2MASS J16273956-2245230</td><td>K2</td></tr>\n",
       "<tr><td>Gaia dr2 6051735162041951616</td><td>0.41</td><td>2MASS J16230783-2300596</td><td>K3.5</td></tr>\n",
       "<tr><td>Gaia dr2 6051781719487966976</td><td>0.22</td><td>2MASS J16253672-2224285</td><td>M7</td></tr>\n",
       "<tr><td>Gaia dr2 6051927542218423040</td><td>0.14</td><td>2MASS J16252969-2214543</td><td>M5</td></tr>\n",
       "<tr><td>Gaia dr2 6244269200073741312</td><td>0.16</td><td>2MASS J16183914-2135341</td><td>F3V,F4V</td></tr>\n",
       "</table>"
      ],
      "text/plain": [
       "<Table masked=True length=25>\n",
       "           inp_id               _r             Name            SpT  \n",
       "                              arcsec                                \n",
       "           str28             float64         bytes28          bytes8\n",
       "---------------------------- ------- ----------------------- -------\n",
       "Gaia dr2 6045914377549499648    0.04 2MASS J16270217-2542346      M6\n",
       "Gaia dr2 6048976762246802944    0.11 2MASS J16233234-2523485      G1\n",
       "Gaia dr2 6049011053265501056    0.05 2MASS J16242132-2501314   B5III\n",
       "Gaia dr2 6049226042146798592    0.38 2MASS J16235470-2438319      M6\n",
       "Gaia dr2 6049277886695322880    0.07 2MASS J16203456-2430205    M6.5\n",
       "Gaia dr2 6050067061167006720    0.04 2MASS J16200757-2359150      M6\n",
       "Gaia dr2 6050070531500394240    0.24 2MASS J16210222-2358395   M5.25\n",
       "Gaia dr2 6050087677009711744    0.11 2MASS J16204596-2348208      K3\n",
       "Gaia dr2 6050104582001653376    0.17 2MASS J16182082-2401502    M5.5\n",
       "                         ...     ...                     ...     ...\n",
       "Gaia dr2 6050373760491905920    0.20 2MASS J16173138-2303360     G1V\n",
       "Gaia dr2 6050449283194168576    0.25 2MASS J16190474-2307526    M5.5\n",
       "Gaia dr2 6050496459111584384    0.19 2MASS J16205022-2235387     A9V\n",
       "Gaia dr2 6050583969069510272    0.05 2MASS J16184074-2209482      M6\n",
       "Gaia dr2 6050945747052676352    0.26 2MASS J16253507-2324186      B8\n",
       "Gaia dr2 6051097681519794944    0.14 2MASS J16273956-2245230      K2\n",
       "Gaia dr2 6051735162041951616    0.41 2MASS J16230783-2300596    K3.5\n",
       "Gaia dr2 6051781719487966976    0.22 2MASS J16253672-2224285      M7\n",
       "Gaia dr2 6051927542218423040    0.14 2MASS J16252969-2214543      M5\n",
       "Gaia dr2 6244269200073741312    0.16 2MASS J16183914-2135341 F3V,F4V"
      ]
     },
     "execution_count": 9,
     "metadata": {},
     "output_type": "execute_result"
    }
   ],
   "source": [
    "# Query VizieR for Luhman 2012 Catalogue ===============\n",
    "cat_2012_L = samp_ini.query_ids_1(simbad['vizier_id'], catalog='J/ApJ/758/31/table1', radius=radii, verbose=False)\n",
    "cat_2012_L = cat_2012_L['inp_id', '_r', 'Name', 'SpT']\n",
    "cat_2012_L"
   ]
  },
  {
   "cell_type": "code",
   "execution_count": 10,
   "metadata": {},
   "outputs": [
    {
     "data": {
      "text/html": [
       "<i>Table masked=True length=20</i>\n",
       "<table id=\"table4972838696\" class=\"table-striped table-bordered table-condensed\">\n",
       "<thead><tr><th>inp_id</th><th>_r</th><th>_2MASS</th><th>SpT</th><th>AV</th></tr></thead>\n",
       "<thead><tr><th></th><th>arcsec</th><th></th><th></th><th></th></tr></thead>\n",
       "<thead><tr><th>str28</th><th>float64</th><th>bytes17</th><th>bytes4</th><th>float32</th></tr></thead>\n",
       "<tr><td>Gaia dr2 6048608906890968960</td><td>0.05</td><td>J16212953-2529431</td><td>M2.5</td><td>0.7</td></tr>\n",
       "<tr><td>Gaia dr2 6048935358761628288</td><td>0.08</td><td>J16262803-2526477</td><td>M0.0</td><td>1.8</td></tr>\n",
       "<tr><td>Gaia dr2 6048948759059667712</td><td>0.13</td><td>J16263495-2511409</td><td>M0.0</td><td>1.1</td></tr>\n",
       "<tr><td>Gaia dr2 6048976762246802944</td><td>0.11</td><td>J16233234-2523485</td><td>K2.0</td><td>1.3</td></tr>\n",
       "<tr><td>Gaia dr2 6049045000683707392</td><td>0.07</td><td>J16271273-2504017</td><td>M1.0</td><td>0.9</td></tr>\n",
       "<tr><td>Gaia dr2 6049456183673228672</td><td>0.20</td><td>J16235509-2330396</td><td>M2.5</td><td>1.2</td></tr>\n",
       "<tr><td>Gaia dr2 6050345001390940160</td><td>0.05</td><td>J16171649-2327570</td><td>M3.5</td><td>0.6</td></tr>\n",
       "<tr><td>Gaia dr2 6050346856816823552</td><td>0.10</td><td>J16172162-2325004</td><td>M4.0</td><td>0.5</td></tr>\n",
       "<tr><td>Gaia dr2 6050373760491905920</td><td>0.20</td><td>J16173138-2303360</td><td>K1.5</td><td>0.0</td></tr>\n",
       "<tr><td>Gaia dr2 6050487456864139392</td><td>0.05</td><td>J16200686-2247320</td><td>M4.5</td><td>0.9</td></tr>\n",
       "<tr><td>Gaia dr2 6050492439026465280</td><td>0.09</td><td>J16211584-2240045</td><td>M1.5</td><td>0.9</td></tr>\n",
       "<tr><td>Gaia dr2 6050939459220525312</td><td>0.08</td><td>J16253504-2332549</td><td>M0.0</td><td>2.1</td></tr>\n",
       "<tr><td>Gaia dr2 6050956604730019072</td><td>0.42</td><td>J16251690-2322030</td><td>M0.0</td><td>1.9</td></tr>\n",
       "<tr><td>Gaia dr2 6050957498083223936</td><td>0.32</td><td>J16250236-2321447</td><td>M1.0</td><td>1.8</td></tr>\n",
       "<tr><td>Gaia dr2 6050996118429316352</td><td>0.02</td><td>J16261995-2258097</td><td>M3.5</td><td>0.7</td></tr>\n",
       "<tr><td>Gaia dr2 6051764573978499200</td><td>0.11</td><td>J16262016-2233124</td><td>M3.5</td><td>0.8</td></tr>\n",
       "<tr><td>Gaia dr2 6052043815573779072</td><td>0.07</td><td>J16231741-2159067</td><td>M3.5</td><td>0.6</td></tr>\n",
       "<tr><td>Gaia dr2 6052065977604571520</td><td>0.01</td><td>J16200616-2212385</td><td>M3.5</td><td>0.2</td></tr>\n",
       "<tr><td>Gaia dr2 6052068657664195072</td><td>0.13</td><td>J16194836-2212519</td><td>M3.0</td><td>0.3</td></tr>\n",
       "<tr><td>Gaia dr2 6052205065824347776</td><td>0.07</td><td>J16225479-2138091</td><td>M2.5</td><td>0.7</td></tr>\n",
       "</table>"
      ],
      "text/plain": [
       "<Table masked=True length=20>\n",
       "           inp_id               _r         _2MASS       SpT      AV  \n",
       "                              arcsec                                 \n",
       "           str28             float64      bytes17      bytes4 float32\n",
       "---------------------------- ------- ----------------- ------ -------\n",
       "Gaia dr2 6048608906890968960    0.05 J16212953-2529431   M2.5     0.7\n",
       "Gaia dr2 6048935358761628288    0.08 J16262803-2526477   M0.0     1.8\n",
       "Gaia dr2 6048948759059667712    0.13 J16263495-2511409   M0.0     1.1\n",
       "Gaia dr2 6048976762246802944    0.11 J16233234-2523485   K2.0     1.3\n",
       "Gaia dr2 6049045000683707392    0.07 J16271273-2504017   M1.0     0.9\n",
       "Gaia dr2 6049456183673228672    0.20 J16235509-2330396   M2.5     1.2\n",
       "Gaia dr2 6050345001390940160    0.05 J16171649-2327570   M3.5     0.6\n",
       "Gaia dr2 6050346856816823552    0.10 J16172162-2325004   M4.0     0.5\n",
       "Gaia dr2 6050373760491905920    0.20 J16173138-2303360   K1.5     0.0\n",
       "Gaia dr2 6050487456864139392    0.05 J16200686-2247320   M4.5     0.9\n",
       "Gaia dr2 6050492439026465280    0.09 J16211584-2240045   M1.5     0.9\n",
       "Gaia dr2 6050939459220525312    0.08 J16253504-2332549   M0.0     2.1\n",
       "Gaia dr2 6050956604730019072    0.42 J16251690-2322030   M0.0     1.9\n",
       "Gaia dr2 6050957498083223936    0.32 J16250236-2321447   M1.0     1.8\n",
       "Gaia dr2 6050996118429316352    0.02 J16261995-2258097   M3.5     0.7\n",
       "Gaia dr2 6051764573978499200    0.11 J16262016-2233124   M3.5     0.8\n",
       "Gaia dr2 6052043815573779072    0.07 J16231741-2159067   M3.5     0.6\n",
       "Gaia dr2 6052065977604571520    0.01 J16200616-2212385   M3.5     0.2\n",
       "Gaia dr2 6052068657664195072    0.13 J16194836-2212519   M3.0     0.3\n",
       "Gaia dr2 6052205065824347776    0.07 J16225479-2138091   M2.5     0.7"
      ]
     },
     "execution_count": 10,
     "metadata": {},
     "output_type": "execute_result"
    }
   ],
   "source": [
    "# Query VizieR for Rizutto 2015 Catalogue ==============\n",
    "cat_2015_R = samp_ini.query_ids_1(simbad['vizier_id'], catalog='J/MNRAS/448/2737/table2', radius=radii, verbose=False)\n",
    "cat_2015_R = cat_2015_R['inp_id', '_r', '_2MASS', 'SpT', 'AV']\n",
    "cat_2015_R"
   ]
  },
  {
   "cell_type": "code",
   "execution_count": 11,
   "metadata": {},
   "outputs": [
    {
     "data": {
      "text/html": [
       "<i>Table masked=True length=14</i>\n",
       "<table id=\"table4972842736\" class=\"table-striped table-bordered table-condensed\">\n",
       "<thead><tr><th>inp_id</th><th>_r</th><th>SimbadName</th></tr></thead>\n",
       "<thead><tr><th></th><th>arcsec</th><th></th></tr></thead>\n",
       "<thead><tr><th>str28</th><th>float64</th><th>bytes31</th></tr></thead>\n",
       "<tr><td>Gaia dr2 6048976762246802944</td><td>0.11</td><td>GSC 06798-00035</td></tr>\n",
       "<tr><td>Gaia dr2 6049226042146798592</td><td>0.22</td><td>[SCH2006] J16235474-24383211</td></tr>\n",
       "<tr><td>Gaia dr2 6050067061167006720</td><td>0.04</td><td>[SCH2006] J16200756-23591522</td></tr>\n",
       "<tr><td>Gaia dr2 6050087677009711744</td><td>0.02</td><td>GSC 06794-00480</td></tr>\n",
       "<tr><td>Gaia dr2 6050110354436327168</td><td>0.09</td><td>[SCH2006] J16174540-23533618</td></tr>\n",
       "<tr><td>Gaia dr2 6050133031864786432</td><td>0.17</td><td>DENIS-P J161903.4-234408</td></tr>\n",
       "<tr><td>Gaia dr2 6050164303519025024</td><td>0.14</td><td>[SCH2006] J16213591-23550341</td></tr>\n",
       "<tr><td>Gaia dr2 6050211681303674368</td><td>0.07</td><td>[SCH2006] J16235158-23172740</td></tr>\n",
       "<tr><td>Gaia dr2 6050373760491905920</td><td>0.13</td><td>ScoPMS060</td></tr>\n",
       "<tr><td>Gaia dr2 6050583969069510272</td><td>0.05</td><td>DENIS-P J161840.8-220948</td></tr>\n",
       "<tr><td>Gaia dr2 6051097681519794944</td><td>0.14</td><td>GSC 06794-00337</td></tr>\n",
       "<tr><td>Gaia dr2 6051735162041951616</td><td>0.31</td><td>GSC 06794-00537</td></tr>\n",
       "<tr><td>Gaia dr2 6051781719487966976</td><td>0.22</td><td>[SCH2006] J16253671-22242887</td></tr>\n",
       "<tr><td>Gaia dr2 6051927542218423040</td><td>0.08</td><td>[SCH2006] J16252968-22145448</td></tr>\n",
       "</table>"
      ],
      "text/plain": [
       "<Table masked=True length=14>\n",
       "           inp_id               _r            SimbadName         \n",
       "                              arcsec                             \n",
       "           str28             float64           bytes31           \n",
       "---------------------------- ------- ----------------------------\n",
       "Gaia dr2 6048976762246802944    0.11              GSC 06798-00035\n",
       "Gaia dr2 6049226042146798592    0.22 [SCH2006] J16235474-24383211\n",
       "Gaia dr2 6050067061167006720    0.04 [SCH2006] J16200756-23591522\n",
       "Gaia dr2 6050087677009711744    0.02              GSC 06794-00480\n",
       "Gaia dr2 6050110354436327168    0.09 [SCH2006] J16174540-23533618\n",
       "Gaia dr2 6050133031864786432    0.17     DENIS-P J161903.4-234408\n",
       "Gaia dr2 6050164303519025024    0.14 [SCH2006] J16213591-23550341\n",
       "Gaia dr2 6050211681303674368    0.07 [SCH2006] J16235158-23172740\n",
       "Gaia dr2 6050373760491905920    0.13                    ScoPMS060\n",
       "Gaia dr2 6050583969069510272    0.05     DENIS-P J161840.8-220948\n",
       "Gaia dr2 6051097681519794944    0.14              GSC 06794-00337\n",
       "Gaia dr2 6051735162041951616    0.31              GSC 06794-00537\n",
       "Gaia dr2 6051781719487966976    0.22 [SCH2006] J16253671-22242887\n",
       "Gaia dr2 6051927542218423040    0.08 [SCH2006] J16252968-22145448"
      ]
     },
     "execution_count": 11,
     "metadata": {},
     "output_type": "execute_result"
    }
   ],
   "source": [
    "# Query VizieR for Kraus 2012 Catalogue ================\n",
    "cat_2007_K = samp_ini.query_ids_1(simbad['vizier_id'], catalog='J/ApJ/662/413/table2', radius=radii, verbose=False)\n",
    "cat_2007_K = cat_2007_K['inp_id', '_r', 'SimbadName']\n",
    "cat_2007_K"
   ]
  },
  {
   "cell_type": "code",
   "execution_count": 12,
   "metadata": {},
   "outputs": [
    {
     "name": "stdout",
     "output_type": "stream",
     "text": [
      "14 20 25 43\n"
     ]
    }
   ],
   "source": [
    "# Merge Catalogues and search for duplicates =====\n",
    "merged = vstack([cat_2007_K, cat_2012_L, cat_2015_R])\n",
    "merged = unique(merged, keys='inp_id')\n",
    "\n",
    "print(len(cat_2007_K), len(cat_2015_R), len(cat_2012_L), len(merged))"
   ]
  },
  {
   "cell_type": "code",
   "execution_count": null,
   "metadata": {},
   "outputs": [],
   "source": []
  }
 ],
 "metadata": {
  "kernelspec": {
   "display_name": "Python 3",
   "language": "python",
   "name": "python3"
  },
  "language_info": {
   "codemirror_mode": {
    "name": "ipython",
    "version": 3
   },
   "file_extension": ".py",
   "mimetype": "text/x-python",
   "name": "python",
   "nbconvert_exporter": "python",
   "pygments_lexer": "ipython3",
   "version": "3.6.8"
  }
 },
 "nbformat": 4,
 "nbformat_minor": 2
}
