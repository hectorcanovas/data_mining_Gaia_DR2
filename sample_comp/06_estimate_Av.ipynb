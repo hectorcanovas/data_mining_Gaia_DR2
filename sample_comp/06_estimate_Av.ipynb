{
 "cells": [
  {
   "cell_type": "markdown",
   "metadata": {},
   "source": [
    "## Compare Gaia Extinction VS literature values"
   ]
  },
  {
   "cell_type": "code",
   "execution_count": 1,
   "metadata": {},
   "outputs": [],
   "source": [
    "import os, glob, getpass, sys, warnings\n",
    "\n",
    "import numpy as np\n",
    "import matplotlib.pyplot as plt\n",
    "from astropy.table import Table, join, vstack, hstack, Column, MaskedColumn, unique\n",
    "from astropy.utils.exceptions import AstropyWarning\n",
    "from astropy import units as u\n",
    "\n",
    "user = getpass.getuser()\n",
    "sys.path.append('/Users/' + user + '/Dropbox/my_python_packages')\n",
    "path = '../'\n",
    "sys.path.append(path)\n",
    "from gaia.cluster_comparison_n import Comparison_n as Comparison\n",
    "# from extra_codes import sample_initial as samp_ini\n",
    "import extra_codes"
   ]
  },
  {
   "cell_type": "code",
   "execution_count": 2,
   "metadata": {},
   "outputs": [],
   "source": [
    "# Path to data =================================\n",
    "warnings.simplefilter('ignore', AstropyWarning)\n",
    "path_0    = path + 'sample_control/'\n",
    "path_1    = path + 'sample_clusters/cl_'\n",
    "path_2    = path + 'sample_gaia/'\n",
    "path_3    = path + 'sample_initial/'\n",
    "\n",
    "path_control  = path_0 + 'OPH___control_sample.vot'\n",
    "path_gaia     = path_2 + 'gaia_sample_cleaned.vot'\n",
    "path_entire   = 'tab_3.vot'\n",
    "\n",
    "# Read Data ====================================\n",
    "sample_gaia    = Table.read(path_gaia,    format = 'votable')\n",
    "sample_control = Table.read(path_control, format = 'votable')\n",
    "sample_entire  = Table.read(path_entire,  format = 'votable')\n",
    "sample_common  = sample_entire[sample_entire['DOH'] == 'YYY']\n",
    "\n",
    "# Combine with Gaia Cat to get all cols ========\n",
    "sample_control = join(sample_gaia, Table([sample_control['source_id']])) ; sample_control.label = 'Control'\n",
    "sample_common  = join(sample_gaia, Table([sample_common['source_id']]))  ; sample_common.label  = 'Common'\n",
    "sample_entire  = join(sample_gaia, Table([sample_entire['source_id']]))  ; sample_entire.label  = 'Combined'\n",
    "\n",
    "sample_common['gaia_id'] = ['Gaia DR2 ' + np.str(inp) for inp in sample_common['source_id']] # Add Column for later"
   ]
  },
  {
   "cell_type": "markdown",
   "metadata": {},
   "source": [
    "## Average Extinction"
   ]
  },
  {
   "cell_type": "code",
   "execution_count": 3,
   "metadata": {},
   "outputs": [
    {
     "name": "stdout",
     "output_type": "stream",
     "text": [
      "N Sources in the Gaia Sample:            2300\n",
      "N Sources in the Common Sample:          391\n",
      "\n",
      "Sources with A_G in the Gaia Sample:     695\n",
      "Sources with A_G in the Common Sample:   95\n",
      "Average Common A_G:                      1.7 +\\- 0.6\n"
     ]
    }
   ],
   "source": [
    "# Look at the Gaia Extinction ==================\n",
    "els_0 = sample_gaia['a_g_val'].mask == False\n",
    "els_1 = sample_common['a_g_val'].mask == False\n",
    "\n",
    "print(f'N Sources in the Gaia Sample:            {len(sample_gaia)}')\n",
    "print(f'N Sources in the Common Sample:          {len(sample_common)}')\n",
    "print()\n",
    "print(f'Sources with A_G in the Gaia Sample:     {len(sample_gaia[els_0])}')\n",
    "print(f'Sources with A_G in the Common Sample:   {len(sample_common[els_1])}')\n",
    "print(f'Average Common A_G:                      {sample_common[els_1][\"a_g_val\"].mean():2.1f} +\\- {sample_common[els_1][\"a_g_val\"].std():3.1f}')"
   ]
  },
  {
   "cell_type": "code",
   "execution_count": 4,
   "metadata": {},
   "outputs": [
    {
     "name": "stdout",
     "output_type": "stream",
     "text": [
      "Objects from Dunham 2015 in Control Sample: 114\n",
      "Objects from Dunham 2015 in Common Sample:   83\n",
      "\n",
      "Average A_V in c2d:                  6.0 +\\- 4.0\n"
     ]
    }
   ],
   "source": [
    "# c2d Extinction (Dunham 2015) =================\n",
    "samp_ini    = Table.read(path_3 + 'sample_ini_cross.vot')\n",
    "samp_ini_c  = samp_ini[samp_ini['Control'] == 'Y']\n",
    "\n",
    "# Dunham 2015 ==============\n",
    "samp_2015 = Table.read(path_3 + '2015_dunham_OPH_YSO.vot')\n",
    "samp_2015.convert_bytestring_to_unicode()\n",
    "samp_2015.rename_column('SimbadName', 'inp_id')\n",
    "\n",
    "# Dunham 2015 * 2MASS ======\n",
    "samp_2015_D = Table.read(path_3 + '2015_dunham_OPH_YSO_tmasss.vot')\n",
    "samp_2015_D.convert_bytestring_to_unicode()\n",
    "\n",
    "# Merge 1 ==================\n",
    "merged      = join(samp_ini_c, samp_2015_D, keys='_2MASS')      # To get the IDs\n",
    "merged.rename_column('DR2_Source_ID', 'source_id')\n",
    "print(f'Objects from Dunham 2015 in Control Sample: {len(merged)}')\n",
    "\n",
    "# Merge 2 ==================\n",
    "merged = join(merged, samp_2015['Av', 'inp_id'], keys='inp_id') # To get the Av\n",
    "\n",
    "# Merge 3 ==================\n",
    "Av_from_c2d      = join(merged, sample_common, keys='source_id')\n",
    "print(f'Objects from Dunham 2015 in Common Sample:   {len(Av_from_c2d)}')\n",
    "\n",
    "print()\n",
    "print(f'Average A_V in c2d:  {Av_from_c2d[\"Av\"].mean():19.1f} +\\- {Av_from_c2d[\"Av\"].std():3.1f}')"
   ]
  },
  {
   "cell_type": "code",
   "execution_count": 5,
   "metadata": {},
   "outputs": [],
   "source": [
    "# Query Rizzuto+2015 ===========================\n",
    "download = False\n",
    "if download:\n",
    "    filename        = '2015_Rizutto.vot'\n",
    "    Av_from_rizzuto = extra_codes.sample_initial.query_ids_1(inp_ids=sample_common['gaia_id'], catalog='J/MNRAS/448/2737/table2', radius=0.5 * u.arcsecond)\n",
    "\n",
    "    # Table Cosmetics ------------\n",
    "    Av_from_rizzuto  = Av_from_rizzuto['inp_id', '_r', '_2MASS', 'SpT', 'AV']\n",
    "    Av_from_rizzuto.convert_bytestring_to_unicode()\n",
    "    Av_from_rizzuto.rename_column('inp_id', 'gaia_id')\n",
    "    Av_from_rizzuto.rename_column('AV', 'Av')\n",
    "    Av_from_rizzuto.write(filename, format = 'votable', overwrite = True)"
   ]
  },
  {
   "cell_type": "code",
   "execution_count": 6,
   "metadata": {},
   "outputs": [
    {
     "name": "stdout",
     "output_type": "stream",
     "text": [
      "\n",
      "Objects from Rizzuto 2015 in Common Sample: 20\n",
      "\n",
      "Average A_V in Rizzuto 2015:     0.9 +\\- 0.6\n"
     ]
    }
   ],
   "source": [
    "# Read Table & give average values =============\n",
    "Av_from_rizzuto = Table.read('2015_Rizutto.vot')\n",
    "print()\n",
    "print(f'Objects from Rizzuto 2015 in Common Sample: {len(Av_from_rizzuto)}')\n",
    "print()\n",
    "\n",
    "av_m = Av_from_rizzuto['Av'].mean()\n",
    "av_s = Av_from_rizzuto['Av'].std()\n",
    "print(f'Average A_V in Rizzuto 2015:    {av_m:4.1f} +\\- {av_s:3.1f}')"
   ]
  },
  {
   "cell_type": "code",
   "execution_count": 7,
   "metadata": {},
   "outputs": [
    {
     "name": "stdout",
     "output_type": "stream",
     "text": [
      "N targets in  2015_Dunham :           83\n",
      "Average Av in 2015_Dunham :           6.0 +/- 4.0\n",
      "\n",
      "N targets in  2015_Rizzuto:           20\n",
      "Average Av in 2015_Rizzuto:           0.9 +/- 0.6\n",
      "\n",
      "N targets in  merged      :          103\n",
      "Average Av in merged      :           5.0 +/- 4.1\n",
      "\n"
     ]
    }
   ],
   "source": [
    "# Merge both catalogues ========================\n",
    "merged = vstack([Av_from_c2d, Av_from_rizzuto])\n",
    "merged = unique(merged, keys='gaia_id')\n",
    "merged = merged['gaia_id', '_2MASS', 'Av']\n",
    "\n",
    "cats = iter(['2015_Dunham', '2015_Rizzuto', 'merged'])\n",
    "for inp in [Av_from_c2d, Av_from_rizzuto, merged]:\n",
    "    cat  = next(cats)\n",
    "    av_m = inp['Av'].mean()\n",
    "    av_s = inp['Av'].std()\n",
    "    \n",
    "    print(f'N targets in  {cat:12s}: {len(inp):12.0f}')\n",
    "    print(f'Average Av in {cat:12s}: {av_m:13.1f} +/- {av_s:3.1f}')\n",
    "    print()"
   ]
  },
  {
   "cell_type": "code",
   "execution_count": 8,
   "metadata": {},
   "outputs": [
    {
     "data": {
      "text/html": [
       "<i>Table masked=True length=3</i>\n",
       "<table id=\"table5001348880\" class=\"table-striped table-bordered table-condensed\">\n",
       "<thead><tr><th>gaia_id</th><th>_2MASS</th><th>Av</th><th>Ref.</th></tr></thead>\n",
       "<thead><tr><th></th><th></th><th>mag</th><th></th></tr></thead>\n",
       "<thead><tr><th>str28</th><th>str17</th><th>float32</th><th>int64</th></tr></thead>\n",
       "<tr><td>Gaia DR2 6046062364938324608</td><td>16302339-2454161</td><td>4.2</td><td>1</td></tr>\n",
       "<tr><td>Gaia DR2 6047508570622891392</td><td>16315441-2503493</td><td>5.8</td><td>1</td></tr>\n",
       "<tr><td>Gaia DR2 6047564611356188288</td><td>16314538-2443071</td><td>5.0</td><td>1</td></tr>\n",
       "</table>"
      ],
      "text/plain": [
       "<Table masked=True length=3>\n",
       "          gaia_id                 _2MASS         Av    Ref.\n",
       "                                                mag        \n",
       "           str28                  str17       float32 int64\n",
       "---------------------------- ---------------- ------- -----\n",
       "Gaia DR2 6046062364938324608 16302339-2454161     4.2     1\n",
       "Gaia DR2 6047508570622891392 16315441-2503493     5.8     1\n",
       "Gaia DR2 6047564611356188288 16314538-2443071     5.0     1"
      ]
     },
     "execution_count": 8,
     "metadata": {},
     "output_type": "execute_result"
    }
   ],
   "source": [
    "# Add References ===============================\n",
    "merged['Ref_1'] = 0 * len(merged)\n",
    "merged['Ref_2'] = 0 * len(merged)\n",
    "\n",
    "for i in range(len(merged)):\n",
    "    s_id = merged['gaia_id'][i]\n",
    "    if s_id in Av_from_c2d['gaia_id']:     merged['Ref_1'][i] = 1\n",
    "    if s_id in Av_from_rizzuto['gaia_id']: merged['Ref_2'][i] = 2\n",
    "\n",
    "merged['Ref.'] = merged['Ref_1'] + merged['Ref_2']\n",
    "if merged['Ref.'].max() > 2:\n",
    "    print('Warning, Double Reference')\n",
    "\n",
    "merged.remove_columns(['Ref_1', 'Ref_2'])\n",
    "merged.sort('gaia_id')\n",
    "merged[0:3]"
   ]
  },
  {
   "cell_type": "code",
   "execution_count": 9,
   "metadata": {},
   "outputs": [
    {
     "data": {
      "image/png": "[encoded data removed]",
      "text/plain": [
       "<Figure size 720x360 with 1 Axes>"
      ]
     },
     "metadata": {
      "needs_background": "light"
     },
     "output_type": "display_data"
    }
   ],
   "source": [
    "# Compare Literature VS Gaia References ====\n",
    "merged['source_id'] = [np.int(inp[9:]) for inp in merged['gaia_id']]\n",
    "combined = join(merged, sample_common['source_id', 'a_g_val'], keys = 'source_id')\n",
    "combined = combined[combined['a_g_val'].mask == False]\n",
    "combined['a_g_val'].format = '2.1f'\n",
    "combined = combined['source_id', 'Ref.', 'Av', 'a_g_val']\n",
    "combined.rename_column('a_g_val', 'Ag')\n",
    "combined.write('06_estimate_Av.tex', format = 'ascii.latex', overwrite = True)\n",
    "!open 06_estimate_Av.tex\n",
    "\n",
    "# Create plot\n",
    "fig = plt.figure(figsize=[10,5])\n",
    "ftsize = 22\n",
    "plt.xlabel(r'$A_\\mathrm{V}$ literature [mags]', fontsize = ftsize)\n",
    "plt.ylabel(r'$A_\\mathrm{V}$ $Gaia$ DR2 [mags]', fontsize = ftsize)\n",
    "plt.xlim([0, combined['Av'].max() * 1.05])\n",
    "plt.ylim([0, combined['Ag'].max() * 2])\n",
    "plt.xticks(fontsize = ftsize)\n",
    "plt.yticks(fontsize = ftsize)\n",
    "\n",
    "plt.plot(combined['Av'], combined['Ag']/0.94, 'ko')\n",
    "plt.plot(np.arange(len(combined)), np.arange(len(combined)), '--')\n",
    "plt.show()\n",
    "fig.savefig('06_estimate_Av_0.pdf', bbox_inches = 'tight', overwrite = True)"
   ]
  },
  {
   "cell_type": "code",
   "execution_count": 10,
   "metadata": {},
   "outputs": [
    {
     "data": {
      "text/html": [
       "<i>Table masked=True length=22</i>\n",
       "<table id=\"table5003884920\" class=\"table-striped table-bordered table-condensed\">\n",
       "<thead><tr><th>source_id</th><th>Ref.</th><th>Av</th><th>Ag</th></tr></thead>\n",
       "<thead><tr><th></th><th></th><th>mag</th><th>mag</th></tr></thead>\n",
       "<thead><tr><th>int64</th><th>int64</th><th>float32</th><th>float32</th></tr></thead>\n",
       "<tr><td>6046062364938324608</td><td>1</td><td>4.2</td><td>0.8</td></tr>\n",
       "<tr><td>6047590243721186688</td><td>1</td><td>4.4</td><td>2.6</td></tr>\n",
       "<tr><td>6049067776894321024</td><td>1</td><td>3.9</td><td>1.3</td></tr>\n",
       "<tr><td>6049094616145974272</td><td>1</td><td>6.3</td><td>2.2</td></tr>\n",
       "<tr><td>6049095406419962112</td><td>1</td><td>7.9</td><td>1.9</td></tr>\n",
       "<tr><td>6049101866050768384</td><td>1</td><td>2.9</td><td>1.9</td></tr>\n",
       "<tr><td>6049118388788178816</td><td>1</td><td>4.0</td><td>2.8</td></tr>\n",
       "<tr><td>6049122310095142656</td><td>1</td><td>1.6</td><td>2.2</td></tr>\n",
       "<tr><td>6049142410542091648</td><td>1</td><td>4.5</td><td>2.8</td></tr>\n",
       "<tr><td>...</td><td>...</td><td>...</td><td>...</td></tr>\n",
       "<tr><td>6049367398109200256</td><td>1</td><td>6.3</td><td>1.4</td></tr>\n",
       "<tr><td>6050172068822858624</td><td>1</td><td>0.0</td><td>0.7</td></tr>\n",
       "<tr><td>6050204641855013376</td><td>1</td><td>3.9</td><td>1.3</td></tr>\n",
       "<tr><td>6050345001390940160</td><td>2</td><td>0.6</td><td>0.8</td></tr>\n",
       "<tr><td>6050487456864139392</td><td>2</td><td>0.9</td><td>1.6</td></tr>\n",
       "<tr><td>6050626201483958400</td><td>1</td><td>2.0</td><td>2.3</td></tr>\n",
       "<tr><td>6050644102907664640</td><td>1</td><td>1.9</td><td>0.9</td></tr>\n",
       "<tr><td>6050681211424993280</td><td>1</td><td>4.3</td><td>2.1</td></tr>\n",
       "<tr><td>6051734990243252096</td><td>1</td><td>2.2</td><td>1.9</td></tr>\n",
       "<tr><td>6051764573978499200</td><td>2</td><td>0.8</td><td>0.9</td></tr>\n",
       "</table>"
      ],
      "text/plain": [
       "<Table masked=True length=22>\n",
       "     source_id       Ref.    Av      Ag  \n",
       "                            mag     mag  \n",
       "       int64        int64 float32 float32\n",
       "------------------- ----- ------- -------\n",
       "6046062364938324608     1     4.2     0.8\n",
       "6047590243721186688     1     4.4     2.6\n",
       "6049067776894321024     1     3.9     1.3\n",
       "6049094616145974272     1     6.3     2.2\n",
       "6049095406419962112     1     7.9     1.9\n",
       "6049101866050768384     1     2.9     1.9\n",
       "6049118388788178816     1     4.0     2.8\n",
       "6049122310095142656     1     1.6     2.2\n",
       "6049142410542091648     1     4.5     2.8\n",
       "                ...   ...     ...     ...\n",
       "6049367398109200256     1     6.3     1.4\n",
       "6050172068822858624     1     0.0     0.7\n",
       "6050204641855013376     1     3.9     1.3\n",
       "6050345001390940160     2     0.6     0.8\n",
       "6050487456864139392     2     0.9     1.6\n",
       "6050626201483958400     1     2.0     2.3\n",
       "6050644102907664640     1     1.9     0.9\n",
       "6050681211424993280     1     4.3     2.1\n",
       "6051734990243252096     1     2.2     1.9\n",
       "6051764573978499200     2     0.8     0.9"
      ]
     },
     "execution_count": 10,
     "metadata": {},
     "output_type": "execute_result"
    }
   ],
   "source": [
    "combined"
   ]
  },
  {
   "cell_type": "code",
   "execution_count": null,
   "metadata": {},
   "outputs": [],
   "source": []
  }
 ],
 "metadata": {
  "kernelspec": {
   "display_name": "Python 3",
   "language": "python",
   "name": "python3"
  },
  "language_info": {
   "codemirror_mode": {
    "name": "ipython",
    "version": 3
   },
   "file_extension": ".py",
   "mimetype": "text/x-python",
   "name": "python",
   "nbconvert_exporter": "python",
   "pygments_lexer": "ipython3",
   "version": "3.6.8"
  }
 },
 "nbformat": 4,
 "nbformat_minor": 2
}
