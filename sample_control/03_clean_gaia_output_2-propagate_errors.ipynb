{
 "cells": [
  {
   "cell_type": "markdown",
   "metadata": {},
   "source": [
    "# Read Gaia & Compute average statistics - not ease!!!"
   ]
  },
  {
   "cell_type": "code",
   "execution_count": 1,
   "metadata": {
    "scrolled": true
   },
   "outputs": [
    {
     "name": "stderr",
     "output_type": "stream",
     "text": [
      "/usr/local/Cellar/python3/3.6.3/Frameworks/Python.framework/Versions/3.6/lib/python3.6/site-packages/matplotlib/cbook/deprecation.py:106: MatplotlibDeprecationWarning: The mpl_toolkits.axes_grid module was deprecated in version 2.1. Use mpl_toolkits.axes_grid1 and mpl_toolkits.axisartist provies the same functionality instead.\n",
      "  warnings.warn(message, mplDeprecation, stacklevel=1)\n"
     ]
    }
   ],
   "source": [
    "import numpy as np\n",
    "import matplotlib.pyplot as plt\n",
    "from astropy import constants as const\n",
    "from astropy import units as u\n",
    "from astropy.table import Table, join, vstack, hstack, Column, MaskedColumn, unique\n",
    "import warnings\n",
    "from astropy.utils.exceptions import AstropyWarning\n",
    "from astropy.visualization import hist\n",
    "from astropy.coordinates import SkyCoord\n",
    "import getpass, sys\n",
    "user = getpass.getuser()\n",
    "sys.path.append('/Users/' + user + '/Dropbox/my_python_packages')\n",
    "from gaia.Basic import Basic\n",
    "from itertools import combinations"
   ]
  },
  {
   "cell_type": "markdown",
   "metadata": {},
   "source": [
    "## see https://www.cosmos.esa.int/web/gaia/dr2-known-issues"
   ]
  },
  {
   "cell_type": "code",
   "execution_count": 2,
   "metadata": {},
   "outputs": [
    {
     "data": {
      "text/html": [
       "&lt;Table masked=True length=140&gt;\n",
       "<table id=\"table4500650808\" class=\"table-striped table-bordered table-condensed\">\n",
       "<thead><tr><th>cat_id</th><th>ra</th><th>dec</th><th>source_id</th><th>parallax</th><th>parallax_error</th><th>parallax_over_error</th><th>pmra</th><th>pmra_error</th><th>pmdec</th><th>pmdec_error</th><th>phot_g_mean_mag</th><th>phot_g_mean_flux_over_error</th><th>phot_bp_mean_flux_over_error</th><th>phot_bp_mean_mag</th><th>phot_rp_mean_flux_over_error</th><th>phot_rp_mean_mag</th><th>radial_velocity</th><th>radial_velocity_error</th><th>teff_val</th><th>teff_percentile_lower</th><th>teff_percentile_upper</th><th>a_g_val</th><th>a_g_percentile_lower</th><th>a_g_percentile_upper</th><th>a_g_percentile_upper_2</th><th>astrometric_excess_noise</th><th>astrometric_excess_noise_sig</th><th>astrometric_chi2_al</th><th>astrometric_n_good_obs_al</th><th>visibility_periods_used</th><th>phot_bp_rp_excess_factor</th><th>bp_rp</th><th>separison</th><th>__BP-RP___2</th><th>unit_weight_e</th><th>u_max</th><th>ruwe</th><th>cat_id_2</th></tr></thead>\n",
       "<thead><tr><th></th><th>deg</th><th>deg</th><th></th><th>mas</th><th>mas</th><th></th><th>mas.yr**-1</th><th>mas.yr**-1</th><th>mas.yr**-1</th><th>mas.yr**-1</th><th>mag</th><th></th><th></th><th>mag</th><th></th><th>mag</th><th>km.s**-1</th><th>km.s**-1</th><th>K</th><th>K</th><th>K</th><th>mag</th><th>mag</th><th>mag</th><th>mag</th><th>mas</th><th></th><th></th><th></th><th></th><th></th><th>mag</th><th></th><th>mag</th><th></th><th>mag</th><th></th><th></th></tr></thead>\n",
       "<thead><tr><th>int64</th><th>float64</th><th>float64</th><th>int64</th><th>float64</th><th>float64</th><th>float32</th><th>float64</th><th>float64</th><th>float64</th><th>float64</th><th>float32</th><th>float32</th><th>float32</th><th>float32</th><th>float32</th><th>float32</th><th>float64</th><th>float64</th><th>float32</th><th>float32</th><th>float32</th><th>float32</th><th>float32</th><th>float32</th><th>float32</th><th>float64</th><th>float64</th><th>float32</th><th>int32</th><th>int16</th><th>float32</th><th>float32</th><th>float64</th><th>float32</th><th>float64</th><th>float32</th><th>float64</th><th>int64</th></tr></thead>\n",
       "<tr><td>2</td><td>245.3269737027558</td><td>-22.91620399349404</td><td>6050297206990387840</td><td>7.19559580892301</td><td>0.07682664231892795</td><td>93.660164</td><td>-8.324771290633084</td><td>0.18914042903077904</td><td>-24.075212883984065</td><td>0.14228709548920793</td><td>15.157623</td><td>220.97343</td><td>53.485527</td><td>17.166464</td><td>69.35991</td><td>13.804977</td><td>--</td><td>--</td><td>4189.2227</td><td>3676.2734</td><td>4461.633</td><td>--</td><td>--</td><td>--</td><td>--</td><td>0.4191824175152108</td><td>25.449599729686287</td><td>1069.6145</td><td>275</td><td>11</td><td>1.5960032</td><td>3.3614864</td><td>0.0001334724966612804</td><td>11.299591</td><td>1.9903605684445675</td><td>2.8599296</td><td>1.0274796198108476</td><td>0</td></tr>\n",
       "<tr><td>3</td><td>245.32990984403395</td><td>-23.708088553879573</td><td>6050172068822858624</td><td>7.173897288330354</td><td>0.060638388378559546</td><td>118.3062</td><td>-11.256267093236755</td><td>0.13042875990466452</td><td>-24.44949078876399</td><td>0.08116230893448978</td><td>6.9739947</td><td>3562.241</td><td>942.29254</td><td>7.089657</td><td>692.05695</td><td>6.794271</td><td>--</td><td>--</td><td>7840.0</td><td>7611.5</td><td>8140.0</td><td>0.659</td><td>0.416</td><td>0.9665</td><td>0.9665</td><td>0.07392759642916422</td><td>2.2635520472322264</td><td>951.90125</td><td>292</td><td>12</td><td>1.1617917</td><td>0.29538584</td><td>0.00011427956678144378</td><td>0.087252796</td><td>1.8211889185538581</td><td>14.695226</td><td>0.9821955313142032</td><td>1</td></tr>\n",
       "<tr><td>4</td><td>245.38301878662597</td><td>-23.027980445729803</td><td>6050277999896626944</td><td>7.299055955109673</td><td>0.11451174287882926</td><td>63.740677</td><td>-6.6259766475041575</td><td>0.31447022330457425</td><td>-26.258460277951627</td><td>0.22263162341534146</td><td>16.555536</td><td>30.680552</td><td>10.347965</td><td>18.379335</td><td>10.629223</td><td>15.074344</td><td>--</td><td>--</td><td>3891.2</td><td>3488.03</td><td>4328.0405</td><td>--</td><td>--</td><td>--</td><td>--</td><td>0.5862693223930294</td><td>19.600140503223855</td><td>843.14636</td><td>289</td><td>11</td><td>1.8035346</td><td>3.3049917</td><td>0.00011782232752329993</td><td>10.92297</td><td>1.723027921823295</td><td>2.1623905</td><td>1.2411179545895732</td><td>2</td></tr>\n",
       "<tr><td>8</td><td>245.45198441638425</td><td>-23.67436581269194</td><td>6050177459004435072</td><td>6.6315638396440715</td><td>0.3617811996455125</td><td>18.330317</td><td>-5.388832897176572</td><td>0.6857601022850729</td><td>-26.45882679854636</td><td>0.4365224116387288</td><td>18.53504</td><td>455.83908</td><td>9.795485</td><td>20.693605</td><td>131.1527</td><td>16.892328</td><td>--</td><td>--</td><td>--</td><td>--</td><td>--</td><td>--</td><td>--</td><td>--</td><td>--</td><td>1.0066483656890928</td><td>5.144683139374342</td><td>465.0384</td><td>287</td><td>11</td><td>2.034631</td><td>3.8012772</td><td>0.00011825064422183025</td><td>14.449708</td><td>1.2841621038297093</td><td>1.4554478</td><td>1.0521658474598887</td><td>3</td></tr>\n",
       "<tr><td>10</td><td>245.57718591932178</td><td>-23.36348590759914</td><td>6050218523189626624</td><td>6.973628493122273</td><td>0.04646854979821978</td><td>150.072</td><td>-6.934294262022265</td><td>0.11279730033201309</td><td>-26.278467476332743</td><td>0.07912045523909245</td><td>12.235949</td><td>172.3374</td><td>44.62965</td><td>13.249967</td><td>60.97188</td><td>11.220009</td><td>-8.284734747727441</td><td>5.290414255954069</td><td>3766.7598</td><td>3661.0</td><td>4191.995</td><td>--</td><td>--</td><td>--</td><td>--</td><td>0.0</td><td>0.0</td><td>828.3583</td><td>283</td><td>11</td><td>1.3740582</td><td>2.0299578</td><td>0.00012604180620913756</td><td>4.1207285</td><td>1.7261825019672157</td><td>5.1301346</td><td>1.3013502169068802</td><td>4</td></tr>\n",
       "<tr><td>13</td><td>245.6039793587639</td><td>-23.498708137344643</td><td>6050204641855013376</td><td>7.229316851779956</td><td>0.09016528783365696</td><td>80.17849</td><td>-8.10744943037449</td><td>0.19502052030138411</td><td>-25.82996570231135</td><td>0.12446352803548832</td><td>15.002239</td><td>191.57916</td><td>44.68094</td><td>16.859365</td><td>162.89136</td><td>13.614469</td><td>--</td><td>--</td><td>4063.9873</td><td>3562.7249</td><td>4785.9526</td><td>1.2923</td><td>0.8384</td><td>1.6263</td><td>1.6263</td><td>0.4243569855911563</td><td>26.495058960737346</td><td>918.8624</td><td>270</td><td>12</td><td>1.6619745</td><td>3.244897</td><td>6.47831887513359e-05</td><td>10.529356</td><td>1.8620970393595886</td><td>2.9502022</td><td>1.0182359949865092</td><td>5</td></tr>\n",
       "<tr><td>17</td><td>245.68725230143127</td><td>-23.287106821088578</td><td>6050220683555127680</td><td>6.892473734833258</td><td>0.21403161013681746</td><td>32.203064</td><td>-8.662657180700226</td><td>0.49059220343009413</td><td>-25.42148397617668</td><td>0.3284801901778264</td><td>18.115103</td><td>554.606</td><td>10.645539</td><td>20.656038</td><td>137.80865</td><td>16.537401</td><td>--</td><td>--</td><td>--</td><td>--</td><td>--</td><td>--</td><td>--</td><td>--</td><td>--</td><td>0.9950476966893289</td><td>10.773360634392251</td><td>698.0039</td><td>336</td><td>12</td><td>1.8924143</td><td>4.118637</td><td>5.130909905231829e-05</td><td>16.963171</td><td>1.4521615373864758</td><td>1.5829672</td><td>1.1093323565774302</td><td>6</td></tr>\n",
       "<tr><td>19</td><td>245.69660974810805</td><td>-23.003817276259596</td><td>6050281092273002496</td><td>6.781829343805051</td><td>0.13430659482673526</td><td>50.495132</td><td>-7.683164175039961</td><td>0.2944715290924135</td><td>-24.555359421816924</td><td>0.1882652007228848</td><td>17.019567</td><td>629.0925</td><td>25.483002</td><td>19.691675</td><td>177.13364</td><td>15.507685</td><td>--</td><td>--</td><td>3353.75</td><td>3279.0</td><td>3473.0</td><td>--</td><td>--</td><td>--</td><td>--</td><td>0.5934547311554695</td><td>11.30914491319351</td><td>597.02155</td><td>298</td><td>12</td><td>1.7772174</td><td>4.1839905</td><td>9.2864217992762e-05</td><td>17.505775</td><td>1.427450943443977</td><td>1.970738</td><td>0.8755337372339279</td><td>7</td></tr>\n",
       "<tr><td>20</td><td>245.70264016484623</td><td>-23.038431844237763</td><td>6050233675834052352</td><td>7.118542147006664</td><td>0.1705184775360622</td><td>41.746456</td><td>-7.369597595105576</td><td>0.3778511379445077</td><td>-26.92734008614833</td><td>0.2469455953842762</td><td>17.721985</td><td>577.4895</td><td>16.410439</td><td>20.111898</td><td>185.72014</td><td>16.1989</td><td>--</td><td>--</td><td>--</td><td>--</td><td>--</td><td>--</td><td>--</td><td>--</td><td>--</td><td>0.6271219384932767</td><td>5.820383483337308</td><td>510.10648</td><td>287</td><td>12</td><td>1.8135715</td><td>3.9129982</td><td>0.00010782548504986317</td><td>15.311555</td><td>1.3449491485418315</td><td>1.7124492</td><td>1.0086001589387712</td><td>8</td></tr>\n",
       "<tr><td>...</td><td>...</td><td>...</td><td>...</td><td>...</td><td>...</td><td>...</td><td>...</td><td>...</td><td>...</td><td>...</td><td>...</td><td>...</td><td>...</td><td>...</td><td>...</td><td>...</td><td>...</td><td>...</td><td>...</td><td>...</td><td>...</td><td>...</td><td>...</td><td>...</td><td>...</td><td>...</td><td>...</td><td>...</td><td>...</td><td>...</td><td>...</td><td>...</td><td>...</td><td>...</td><td>...</td><td>...</td><td>...</td><td>...</td></tr>\n",
       "<tr><td>112</td><td>247.94089207320962</td><td>-24.65261576601839</td><td>6047573849829430656</td><td>6.8798703786159905</td><td>0.41842822503465404</td><td>16.442175</td><td>-5.129964168384605</td><td>1.00232637824668</td><td>-23.294399775342477</td><td>0.6114192425984201</td><td>18.714705</td><td>225.90729</td><td>3.597604</td><td>20.527744</td><td>44.383278</td><td>16.883562</td><td>--</td><td>--</td><td>--</td><td>--</td><td>--</td><td>--</td><td>--</td><td>--</td><td>--</td><td>1.4369294366480396</td><td>7.345328134805498</td><td>384.71518</td><td>173</td><td>9</td><td>2.4388347</td><td>3.6441822</td><td>0.00013018445255321974</td><td>13.280064</td><td>1.5132651143175384</td><td>1.4040778</td><td>1.2772832095107913</td><td>130</td></tr>\n",
       "<tr><td>114</td><td>247.9671359017015</td><td>-24.937793511985284</td><td>6047512792574297984</td><td>6.007319466814087</td><td>0.3383598024808681</td><td>17.754234</td><td>-7.5682725052363935</td><td>0.5665858880834713</td><td>-22.20836604343441</td><td>0.42641484938904134</td><td>18.274065</td><td>109.87678</td><td>6.0529146</td><td>20.249275</td><td>37.01911</td><td>16.47653</td><td>--</td><td>--</td><td>--</td><td>--</td><td>--</td><td>--</td><td>--</td><td>--</td><td>--</td><td>1.0723860754091454</td><td>6.81648579899643</td><td>373.90295</td><td>184</td><td>9</td><td>2.349556</td><td>3.7727451</td><td>0.00010757436725953361</td><td>14.233605</td><td>1.4452831276269513</td><td>1.5334324</td><td>1.1662958338123635</td><td>131</td></tr>\n",
       "<tr><td>117</td><td>247.9767637117597</td><td>-25.06380945413848</td><td>6047508570622891392</td><td>6.913567763978794</td><td>0.13651043763844098</td><td>50.644974</td><td>-5.068910452950908</td><td>0.21247441534699224</td><td>-23.73499817057445</td><td>0.16516939592281024</td><td>15.975264</td><td>155.82512</td><td>26.267723</td><td>17.976656</td><td>57.198597</td><td>14.552112</td><td>--</td><td>--</td><td>3736.4126</td><td>3405.0999</td><td>4133.1226</td><td>--</td><td>--</td><td>--</td><td>--</td><td>0.5767649356030993</td><td>18.397596280669312</td><td>749.8664</td><td>184</td><td>9</td><td>1.6961448</td><td>3.4245443</td><td>0.00011567844008721018</td><td>11.727504</td><td>2.0467529729021097</td><td>2.4284883</td><td>1.2636602121267428</td><td>132</td></tr>\n",
       "<tr><td>119</td><td>247.99717272561222</td><td>-24.91138460028556</td><td>6047514411778430976</td><td>6.572055701795716</td><td>0.17207073542041598</td><td>38.19392</td><td>-7.245810417410596</td><td>0.33593199299472</td><td>-21.800751880907463</td><td>0.2570164985382458</td><td>16.786802</td><td>684.0341</td><td>15.266073</td><td>19.55513</td><td>157.826</td><td>15.190177</td><td>--</td><td>--</td><td>3382.0</td><td>3280.5</td><td>3581.25</td><td>--</td><td>--</td><td>--</td><td>--</td><td>0.8418019694226498</td><td>21.183915165904427</td><td>705.4336</td><td>187</td><td>10</td><td>1.9110999</td><td>4.364953</td><td>0.00012743019338170176</td><td>19.052814</td><td>1.9687581763304838</td><td>2.0646508</td><td>1.085292277343317</td><td>133</td></tr>\n",
       "<tr><td>120</td><td>248.0230411347893</td><td>-25.043518320096094</td><td>6047507986507354880</td><td>6.203477205536767</td><td>0.11730299721063801</td><td>52.884216</td><td>-6.488774081095984</td><td>0.18432967222680974</td><td>-23.832112991595245</td><td>0.13935436068792678</td><td>15.593442</td><td>124.488815</td><td>32.193848</td><td>17.321531</td><td>44.492363</td><td>14.267463</td><td>--</td><td>--</td><td>3873.66</td><td>3428.0</td><td>4302.1475</td><td>--</td><td>--</td><td>--</td><td>--</td><td>0.4754472436908064</td><td>18.739035332004867</td><td>588.7869</td><td>191</td><td>9</td><td>1.5940889</td><td>3.0540686</td><td>0.0001211308020571421</td><td>9.327334</td><td>1.7791911389662367</td><td>2.6212027</td><td>1.1237339701735547</td><td>134</td></tr>\n",
       "<tr><td>122</td><td>248.087707237511</td><td>-24.51008641217129</td><td>6047600100669517696</td><td>6.44596916194287</td><td>0.28156450148860385</td><td>22.893402</td><td>-5.120905160055785</td><td>0.6610796882045281</td><td>-24.068691790996834</td><td>0.4325961386812786</td><td>18.53526</td><td>87.67721</td><td>6.4821935</td><td>20.797916</td><td>28.635395</td><td>16.802958</td><td>--</td><td>--</td><td>--</td><td>--</td><td>--</td><td>--</td><td>--</td><td>--</td><td>--</td><td>0.8318552246883227</td><td>3.448305828358031</td><td>325.31052</td><td>201</td><td>10</td><td>2.1918283</td><td>3.9949589</td><td>0.0001339095166532462</td><td>15.959697</td><td>1.2883118925306194</td><td>1.455384</td><td>1.0268043371427633</td><td>135</td></tr>\n",
       "<tr><td>123</td><td>248.09135777728312</td><td>-24.70422594783909</td><td>6047569834036585728</td><td>6.930831697146041</td><td>0.07184607570449017</td><td>96.46778</td><td>-4.736779237007553</td><td>0.165126838918938</td><td>-24.35060383086557</td><td>0.10988788296660532</td><td>13.8389635</td><td>396.7997</td><td>81.270226</td><td>15.43811</td><td>117.248665</td><td>12.573799</td><td>--</td><td>--</td><td>3702.555</td><td>3285.0</td><td>4250.057</td><td>--</td><td>--</td><td>--</td><td>--</td><td>0.31076872693114155</td><td>19.565664326851397</td><td>580.988</td><td>177</td><td>9</td><td>1.5342085</td><td>2.8643112</td><td>0.00012620648494493552</td><td>8.204279</td><td>1.8378892975908385</td><td>3.7229967</td><td>1.0209276656348485</td><td>136</td></tr>\n",
       "<tr><td>125</td><td>248.11615655118922</td><td>-25.417280595588593</td><td>6045798379068345600</td><td>6.577353341286494</td><td>0.18820430040787972</td><td>34.947945</td><td>-4.376888881477066</td><td>0.3563703624493658</td><td>-23.800442479770922</td><td>0.25096283711616624</td><td>16.932295</td><td>441.44803</td><td>16.641905</td><td>19.186735</td><td>183.93231</td><td>15.404239</td><td>--</td><td>--</td><td>3704.1426</td><td>3293.0</td><td>4087.425</td><td>--</td><td>--</td><td>--</td><td>--</td><td>0.8089220334793412</td><td>17.230244326567302</td><td>600.2156</td><td>176</td><td>10</td><td>1.8323056</td><td>3.7824965</td><td>0.00011646864706925855</td><td>14.30728</td><td>1.8735081022488937</td><td>2.0054383</td><td>1.2651751837983276</td><td>137</td></tr>\n",
       "<tr><td>128</td><td>248.48170580063953</td><td>-24.70149139459082</td><td>6047533103476186496</td><td>7.074383870450927</td><td>0.0751155227641767</td><td>94.18005</td><td>-4.895294922883403</td><td>0.14322946987337537</td><td>-23.369999398170982</td><td>0.10379980132264158</td><td>14.233396</td><td>148.97852</td><td>46.086746</td><td>15.868542</td><td>50.089172</td><td>12.964073</td><td>--</td><td>--</td><td>4568.61</td><td>4009.875</td><td>4803.65</td><td>0.789</td><td>0.6856</td><td>1.2138</td><td>1.2138</td><td>0.401422854766071</td><td>29.278547809062925</td><td>826.5897</td><td>194</td><td>10</td><td>1.5339688</td><td>2.9044685</td><td>0.00010253152336179814</td><td>8.435938</td><td>2.091289217420158</td><td>3.4405882</td><td>1.205782120580078</td><td>138</td></tr>\n",
       "<tr><td>134</td><td>249.93931775468727</td><td>-24.034508328226288</td><td>6047849655449492096</td><td>6.426335441924552</td><td>0.09963384224120257</td><td>64.49953</td><td>-6.0422804853487175</td><td>0.16922271132829617</td><td>-22.28152057030995</td><td>0.09634236991785214</td><td>13.430821</td><td>59.438427</td><td>13.741164</td><td>14.940845</td><td>18.078161</td><td>12.199298</td><td>--</td><td>--</td><td>3970.53</td><td>3452.2</td><td>4746.51</td><td>--</td><td>--</td><td>--</td><td>--</td><td>0.3641168209411822</td><td>27.17311390677131</td><td>905.69037</td><td>183</td><td>10</td><td>1.50691</td><td>2.7415466</td><td>8.615143118222793e-05</td><td>7.516078</td><td>2.2556923856094193</td><td>4.039647</td><td>1.3748831315584311</td><td>139</td></tr>\n",
       "</table>"
      ],
      "text/plain": [
       "<Table masked=True length=140>\n",
       "cat_id         ra                 dec         ...        ruwe        cat_id_2\n",
       "              deg                 deg         ...                            \n",
       "int64       float64             float64       ...      float64        int64  \n",
       "------ ------------------ ------------------- ... ------------------ --------\n",
       "     2  245.3269737027558  -22.91620399349404 ... 1.0274796198108476        0\n",
       "     3 245.32990984403395 -23.708088553879573 ... 0.9821955313142032        1\n",
       "     4 245.38301878662597 -23.027980445729803 ... 1.2411179545895732        2\n",
       "     8 245.45198441638425  -23.67436581269194 ... 1.0521658474598887        3\n",
       "    10 245.57718591932178  -23.36348590759914 ... 1.3013502169068802        4\n",
       "    13  245.6039793587639 -23.498708137344643 ... 1.0182359949865092        5\n",
       "    17 245.68725230143127 -23.287106821088578 ... 1.1093323565774302        6\n",
       "    19 245.69660974810805 -23.003817276259596 ... 0.8755337372339279        7\n",
       "    20 245.70264016484623 -23.038431844237763 ... 1.0086001589387712        8\n",
       "   ...                ...                 ... ...                ...      ...\n",
       "   112 247.94089207320962  -24.65261576601839 ... 1.2772832095107913      130\n",
       "   114  247.9671359017015 -24.937793511985284 ... 1.1662958338123635      131\n",
       "   117  247.9767637117597  -25.06380945413848 ... 1.2636602121267428      132\n",
       "   119 247.99717272561222  -24.91138460028556 ...  1.085292277343317      133\n",
       "   120  248.0230411347893 -25.043518320096094 ... 1.1237339701735547      134\n",
       "   122   248.087707237511  -24.51008641217129 ... 1.0268043371427633      135\n",
       "   123 248.09135777728312  -24.70422594783909 ... 1.0209276656348485      136\n",
       "   125 248.11615655118922 -25.417280595588593 ... 1.2651751837983276      137\n",
       "   128 248.48170580063953  -24.70149139459082 ...  1.205782120580078      138\n",
       "   134 249.93931775468727 -24.034508328226288 ... 1.3748831315584311      139"
      ]
     },
     "execution_count": 2,
     "metadata": {},
     "output_type": "execute_result"
    }
   ],
   "source": [
    "# Read Control Sample ========================\n",
    "warnings.simplefilter('ignore', category=AstropyWarning)\n",
    "control = Table.read('OPH___control_sample.vot', format = 'votable')\n",
    "control['cat_id_2'] = [inp for inp in range(len(control))]\n",
    "control"
   ]
  },
  {
   "cell_type": "code",
   "execution_count": 3,
   "metadata": {},
   "outputs": [],
   "source": [
    "def get_ksigma(tb_inp, showplot = True):\n",
    "# Examine brightness distribution to discenr criteria =====\n",
    "    if showplot:\n",
    "        plt.figure(figsize=[10,5])\n",
    "        plt.xlabel('G band magnitude', fontsize = 18)\n",
    "        hists = plt.hist(control['phot_g_mean_mag'], bins=15)\n",
    "        plt.vlines(x=13, ymin=0, ymax=hists[0].max(), linestyles='--')\n",
    "        plt.show()\n",
    "\n",
    "    bright = control[control['phot_g_mean_mag'] <13. ]\n",
    "    faint  = control[control['phot_g_mean_mag'] >13. ]\n",
    "\n",
    "    r_bright = np.round(len(bright) /len(control)*100,1)\n",
    "    r_faint  = np.round(len(faint)  /len(control)*100,1)\n",
    "\n",
    "    print(r_faint,  '% of faint  (G>13) stars')\n",
    "    print(r_bright, '% of bright (G<13) stars')\n",
    "                        \n",
    "    if r_faint >50: out = {'k':1.08, 'sigma':0.043, 'regime':'faint'}\n",
    "    if r_faint <50: out = {'k':1.08, 'sigma':0.021, 'regime':'bright'}\n",
    "    return out\n",
    "\n",
    "def get_coords(tb_inp, tb_index, frame = 'icrs'): # try 'fk5'\n",
    "    source = tb_inp[tb_index]\n",
    "    ra     = source['ra']\n",
    "    dec    = source['dec']\n",
    "    coords = SkyCoord(ra=ra*u.degree, dec=dec*u.degree, frame=frame)\n",
    "    return {'ra':ra, 'dec':dec, 'coords':coords}\n",
    "\n",
    "\n",
    "def get_pair_coords(tb_inp, tb_indexex_tupple):\n",
    "    coords_1 = get_coords(tb_inp, tb_indexex_tupple[0])\n",
    "    coords_2 = get_coords(tb_inp, tb_indexex_tupple[1])\n",
    "    return coords_1['coords'].separation(coords_2['coords']).degree\n",
    "\n",
    "\n",
    "def get_gaia_variance(theta):\n",
    "    diff         = np.abs(var_gaia_dr2['theta'] - theta)\n",
    "    diff_v       = np.where(diff == np.min(diff))[0][0]\n",
    "\n",
    "    V_plx_out = var_gaia_dr2[diff_v]['V_plx']\n",
    "    V_mu__out = var_gaia_dr2[diff_v]['V_mu']\n",
    "    return {'theta':theta, 'V_plx': V_plx_out, 'V_mu':V_mu__out}"
   ]
  },
  {
   "cell_type": "code",
   "execution_count": 4,
   "metadata": {},
   "outputs": [
    {
     "data": {
      "image/png": "[encoded data removed]",
      "text/plain": [
       "<matplotlib.figure.Figure at 0x10dde37b8>"
      ]
     },
     "metadata": {},
     "output_type": "display_data"
    },
    {
     "name": "stdout",
     "output_type": "stream",
     "text": [
      "92.1 % of faint  (G>13) stars\n",
      "7.9 % of bright (G<13) stars\n"
     ]
    },
    {
     "data": {
      "text/plain": [
       "{'k': 1.08, 'regime': 'faint', 'sigma': 0.043}"
      ]
     },
     "execution_count": 4,
     "metadata": {},
     "output_type": "execute_result"
    }
   ],
   "source": [
    "ksigma = get_ksigma(control)\n",
    "ksigma"
   ]
  },
  {
   "cell_type": "code",
   "execution_count": 8,
   "metadata": {},
   "outputs": [
    {
     "data": {
      "text/html": [
       "&lt;Table length=15&gt;\n",
       "<table id=\"table4533379704\" class=\"table-striped table-bordered table-condensed\">\n",
       "<thead><tr><th>theta</th><th>V_plx</th><th>V_mu</th></tr></thead>\n",
       "<thead><tr><th>deg</th><th>uarcsec2</th><th>uarcsec2 / yr2</th></tr></thead>\n",
       "<thead><tr><th>float64</th><th>float64</th><th>float64</th></tr></thead>\n",
       "<tr><td>0.0625</td><td>1811.7195276918228</td><td>4485.088207521745</td></tr>\n",
       "<tr><td>0.1875</td><td>1348.5490130512085</td><td>1771.3020997829863</td></tr>\n",
       "<tr><td>0.3125</td><td>202.78241614792717</td><td>887.7447800112914</td></tr>\n",
       "<tr><td>0.4375</td><td>155.20661230697124</td><td>39.338103082495316</td></tr>\n",
       "<tr><td>0.5625</td><td>278.19273682898034</td><td>1301.698763697534</td></tr>\n",
       "<tr><td>0.6875</td><td>369.1326746147371</td><td>413.37184219952286</td></tr>\n",
       "<tr><td>0.8125</td><td>306.4467323102265</td><td>712.5601985741366</td></tr>\n",
       "<tr><td>0.9375</td><td>474.74548498625086</td><td>947.7881673449913</td></tr>\n",
       "<tr><td>1.0625</td><td>495.68215074177857</td><td>1547.4393981172025</td></tr>\n",
       "<tr><td>1.1875</td><td>379.0053780904507</td><td>953.4982406725761</td></tr>\n",
       "<tr><td>1.3125</td><td>474.34481486032075</td><td>776.4636627511007</td></tr>\n",
       "<tr><td>1.4375</td><td>-40.36116742299245</td><td>-95.03716253498433</td></tr>\n",
       "<tr><td>1.5625</td><td>162.68417111513932</td><td>568.6345941955902</td></tr>\n",
       "<tr><td>1.6875</td><td>-16.632082018672676</td><td>370.9791677833689</td></tr>\n",
       "<tr><td>1.8125</td><td>119.52690937378543</td><td>379.15265745482543</td></tr>\n",
       "</table>"
      ],
      "text/plain": [
       "<Table length=15>\n",
       " theta         V_plx               V_mu       \n",
       "  deg         uarcsec2        uarcsec2 / yr2  \n",
       "float64       float64            float64      \n",
       "------- ------------------- ------------------\n",
       " 0.0625  1811.7195276918228  4485.088207521745\n",
       " 0.1875  1348.5490130512085 1771.3020997829863\n",
       " 0.3125  202.78241614792717  887.7447800112914\n",
       " 0.4375  155.20661230697124 39.338103082495316\n",
       " 0.5625  278.19273682898034  1301.698763697534\n",
       " 0.6875   369.1326746147371 413.37184219952286\n",
       " 0.8125   306.4467323102265  712.5601985741366\n",
       " 0.9375  474.74548498625086  947.7881673449913\n",
       " 1.0625  495.68215074177857 1547.4393981172025\n",
       " 1.1875   379.0053780904507  953.4982406725761\n",
       " 1.3125  474.34481486032075  776.4636627511007\n",
       " 1.4375  -40.36116742299245 -95.03716253498433\n",
       " 1.5625  162.68417111513932  568.6345941955902\n",
       " 1.6875 -16.632082018672676  370.9791677833689\n",
       " 1.8125  119.52690937378543 379.15265745482543"
      ]
     },
     "execution_count": 8,
     "metadata": {},
     "output_type": "execute_result"
    }
   ],
   "source": [
    "# Read Covarianza table ==================\n",
    "var_gaia_dr2 = Table.read('/Users/hcanovas/Astrofisica/Gaia/DR2_spatialCov_V1/spatialCovarianceQso.txt', format = 'ascii')\n",
    "var_gaia_dr2['theta'].unit = u.degree\n",
    "var_gaia_dr2['V_plx'].unit = u.microarcsecond**2\n",
    "var_gaia_dr2['V_mu'].unit  = u.microarcsecond**2 / u.year**2\n",
    "var_gaia_dr2[0:15]"
   ]
  },
  {
   "cell_type": "code",
   "execution_count": 6,
   "metadata": {},
   "outputs": [],
   "source": [
    "# Find all non-redundant combinations ====\n",
    "nonred  = [comb for comb in combinations(np.arange(len(control)), 2)]\n",
    "covar   = [get_gaia_variance(get_pair_coords(tb_inp=control, tb_indexex_tupple=inp)) for inp in nonred]\n",
    "\n",
    "cols    = var_gaia_dr2.colnames\n",
    "covars  = [[inp[col]  for inp in covar] for col in cols]\n",
    "covar_f = Table(covars, names=cols)\n",
    "\n",
    "for col in cols:\n",
    "    covar_f[col].unit   = var_gaia_dr2[col].unit\n",
    "    \n",
    "covar_f[0:5]"
   ]
  },
  {
   "cell_type": "code",
   "execution_count": 9,
   "metadata": {},
   "outputs": [
    {
     "data": {
      "text/html": [
       "&lt;Table length=3&gt;\n",
       "<table id=\"table4529426216\" class=\"table-striped table-bordered table-condensed\">\n",
       "<thead><tr><th>theta</th><th>V_plx</th><th>V_mu</th></tr></thead>\n",
       "<thead><tr><th>deg</th><th>uarcsec2</th><th>uarcsec2 / yr2</th></tr></thead>\n",
       "<thead><tr><th>float64</th><th>float64</th><th>float64</th></tr></thead>\n",
       "<tr><td>0.7918891510789855</td><td>306.4467323102265</td><td>712.5601985741366</td></tr>\n",
       "<tr><td>0.12311205678258205</td><td>1811.7195276918228</td><td>4485.088207521745</td></tr>\n",
       "<tr><td>0.7668067611142095</td><td>306.4467323102265</td><td>712.5601985741366</td></tr>\n",
       "</table>"
      ],
      "text/plain": [
       "<Table length=3>\n",
       "       theta              V_plx               V_mu      \n",
       "        deg              uarcsec2        uarcsec2 / yr2 \n",
       "      float64            float64            float64     \n",
       "------------------- ------------------ -----------------\n",
       " 0.7918891510789855  306.4467323102265 712.5601985741366\n",
       "0.12311205678258205 1811.7195276918228 4485.088207521745\n",
       " 0.7668067611142095  306.4467323102265 712.5601985741366"
      ]
     },
     "execution_count": 9,
     "metadata": {},
     "output_type": "execute_result"
    }
   ],
   "source": [
    "covar_f[0:3]"
   ]
  },
  {
   "cell_type": "code",
   "execution_count": 24,
   "metadata": {},
   "outputs": [
    {
     "data": {
      "text/plain": [
       "(7.074074290733302, 0.38195272675374653, 0.030238502773465285)"
      ]
     },
     "execution_count": 24,
     "metadata": {},
     "output_type": "execute_result"
    }
   ],
   "source": [
    "inp_col  = 'parallax'\n",
    "\n",
    "if inp_col == 'parallax': var_col = 'V_plx'\n",
    "if inp_col == 'pmra' or inp_col == 'pmdec': var_col = 'V_mu'\n",
    "\n",
    "aver     = control[inp_col].mean() * control[inp_col].unit\n",
    "n        = len(control)\n",
    "\n",
    "var_term_1 = 1./n * (ksigma['k']**2 * np.mean(control[inp_col + '_error']**2) + ksigma['sigma']**2)\n",
    "var_term_2 = (n-1.)/n * np.mean(covar_f[var_col])*10**(-6) # To convert from microarcsecs^2 to mas^2.\n",
    "\n",
    "sigma_1  = np.std(control[inp_col])\n",
    "sigma_2  = np.sqrt(var_term_1 + var_term_2)\n",
    "\n",
    "aver.value, sigma_1, sigma_2"
   ]
  },
  {
   "cell_type": "code",
   "execution_count": 29,
   "metadata": {},
   "outputs": [
    {
     "data": {
      "text/plain": [
       "(-25.599786670074952, 1.661704720934431, 0.044091156026548596)"
      ]
     },
     "execution_count": 29,
     "metadata": {},
     "output_type": "execute_result"
    }
   ],
   "source": [
    "inp_col  = 'pmdec'\n",
    "\n",
    "if inp_col == 'parallax': var_col = 'V_plx'\n",
    "if inp_col == 'pmra' or inp_col == 'pmdec': var_col = 'V_mu'\n",
    "\n",
    "aver     = control[inp_col].mean() # control[inp_col].unit\n",
    "n        = len(control)\n",
    "\n",
    "var_term_1 = 1./n * (ksigma['k']**2 * np.mean(control[inp_col + '_error']**2) + ksigma['sigma']**2)\n",
    "var_term_2 = (n-1.)/n * np.mean(covar_f[var_col])*10**(-6) # To convert from microarcsecs^2 to mas^2.\n",
    "\n",
    "sigma_1  = np.std(control[inp_col])\n",
    "sigma_2  = np.sqrt(var_term_1 + var_term_2)\n",
    "\n",
    "aver, sigma_1, sigma_2"
   ]
  },
  {
   "cell_type": "code",
   "execution_count": null,
   "metadata": {},
   "outputs": [],
   "source": []
  }
 ],
 "metadata": {
  "kernelspec": {
   "display_name": "Python 3",
   "language": "python",
   "name": "python3"
  },
  "language_info": {
   "codemirror_mode": {
    "name": "ipython",
    "version": 3
   },
   "file_extension": ".py",
   "mimetype": "text/x-python",
   "name": "python",
   "nbconvert_exporter": "python",
   "pygments_lexer": "ipython3",
   "version": "3.6.3"
  }
 },
 "nbformat": 4,
 "nbformat_minor": 1
}
