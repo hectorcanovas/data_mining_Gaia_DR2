{
 "cells": [
  {
   "cell_type": "markdown",
   "metadata": {},
   "source": [
    "# Plot ODISEA Image for seminars/talks/posters"
   ]
  },
  {
   "cell_type": "code",
   "execution_count": null,
   "metadata": {
    "scrolled": true
   },
   "outputs": [],
   "source": [
    "# For Sky Plots se: http://docs.astropy.org/en/stable/visualization/wcsaxes/ticks_labels_grid.html\n",
    "import numpy as np\n",
    "from astropy.table import Table, join, vstack, hstack, Column, MaskedColumn\n",
    "import warnings\n",
    "from astropy.utils.exceptions import AstropyWarning\n",
    "\n",
    "import os, glob, getpass, sys\n",
    "user = getpass.getuser()\n",
    "sys.path.append('/Users/' + user + '/Dropbox/my_python_packages')\n",
    "path      = '../'\n",
    "from gaia.Basic_Plotters import Basic_Plotters\n",
    "from gaia.cluster_comparison import Comparison"
   ]
  },
  {
   "cell_type": "code",
   "execution_count": null,
   "metadata": {},
   "outputs": [],
   "source": [
    "# Read Samples =================================\n",
    "warnings.simplefilter('ignore', category=AstropyWarning)\n",
    "tb_control = Table.read(path + 'sample_control/OPH___control_sample.vot', format = 'votable') ; tb_control.label = 'Control'\n",
    "tb_gaia    = Table.read(path + 'sample_gaia/gaia_sample_cleaned.vot',     format = 'votable') ; tb_gaia.label    = 'Gaia'\n",
    "tb_common  = Table.read(path + 'sample_comp/common_sample_case_0.vot',    format = 'votable') ; tb_common.label  = 'Common'"
   ]
  },
  {
   "cell_type": "code",
   "execution_count": null,
   "metadata": {},
   "outputs": [],
   "source": [
    "# Read Oph WISE Images =========================\n",
    "figs_0  = Basic_Plotters(tb_control)\n",
    "figs_0.read_wise_fits('wise_RGB_img.fits')\n",
    "figs_0.plot_wise_img(mew = 0, figname = 'poster_0.pdf')"
   ]
  },
  {
   "cell_type": "code",
   "execution_count": null,
   "metadata": {},
   "outputs": [],
   "source": [
    "# Read Oph WISE Images =========================\n",
    "test_1  = Comparison()\n",
    "test_1.read_wise_fits('wise_RGB_img.fits')\n",
    "test_1.load_clusters(tb_control, tb_gaia)\n",
    "test_1.plot_wise_img(mec_1='yellow', mew=2, legend_color='no_legend', figname = 'poster_1.pdf')"
   ]
  },
  {
   "cell_type": "code",
   "execution_count": null,
   "metadata": {},
   "outputs": [],
   "source": [
    "# Compare with combined sample =================\n",
    "test_2  = Comparison()\n",
    "test_2.read_wise_fits('wise_RGB_img.fits')\n",
    "test_2.load_clusters(tb_control, tb_common)\n",
    "test_2.plot_wise_img(mec_1='yellow', mew=2, legend_color='no_legend', figname = 'poster_2.pdf',cl2_on_top=True)"
   ]
  },
  {
   "cell_type": "code",
   "execution_count": null,
   "metadata": {},
   "outputs": [],
   "source": []
  }
 ],
 "metadata": {
  "kernelspec": {
   "display_name": "Python 3",
   "language": "python",
   "name": "python3"
  },
  "language_info": {
   "codemirror_mode": {
    "name": "ipython",
    "version": 3
   },
   "file_extension": ".py",
   "mimetype": "text/x-python",
   "name": "python",
   "nbconvert_exporter": "python",
   "pygments_lexer": "ipython3",
   "version": "3.6.8"
  }
 },
 "nbformat": 4,
 "nbformat_minor": 1
}
