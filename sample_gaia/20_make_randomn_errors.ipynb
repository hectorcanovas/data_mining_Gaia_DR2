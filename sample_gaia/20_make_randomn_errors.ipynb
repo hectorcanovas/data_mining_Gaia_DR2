{
 "cells": [
  {
   "cell_type": "markdown",
   "metadata": {},
   "source": [
    "# Create Correlation Matrix & randomize gaia errors"
   ]
  },
  {
   "cell_type": "code",
   "execution_count": 1,
   "metadata": {
    "scrolled": true
   },
   "outputs": [],
   "source": [
    "import numpy as np\n",
    "import matplotlib.pyplot as plt\n",
    "from astropy import constants as const, units as u\n",
    "from astropy.table import Table, join, vstack, hstack, Column, MaskedColumn\n",
    "from astropy import coordinates, units as u, wcs\n",
    "import warnings\n",
    "from astropy.utils.exceptions import AstropyWarning\n",
    "import os, glob, getpass, sys\n",
    "user = getpass.getuser()\n",
    "from astropy.io import fits"
   ]
  },
  {
   "cell_type": "code",
   "execution_count": 2,
   "metadata": {},
   "outputs": [
    {
     "data": {
      "text/html": [
       "&lt;Table masked=True length=3&gt;\n",
       "<table id=\"table4571594368\" class=\"table-striped table-bordered table-condensed\">\n",
       "<thead><tr><th>ra</th><th>dec</th><th>pmra</th><th>pmdec</th><th>parallax</th><th>ra_error</th><th>dec_error</th><th>pmra_error</th><th>pmdec_error</th><th>parallax_error</th><th>ra_dec_corr</th><th>ra_parallax_corr</th><th>ra_pmra_corr</th><th>ra_pmdec_corr</th><th>dec_parallax_corr</th><th>dec_pmra_corr</th><th>dec_pmdec_corr</th><th>parallax_pmra_corr</th><th>parallax_pmdec_corr</th><th>pmra_pmdec_corr</th></tr></thead>\n",
       "<thead><tr><th>deg</th><th>deg</th><th>mas.yr**-1</th><th>mas.yr**-1</th><th>mas</th><th>deg</th><th>deg</th><th>mas.yr**-1</th><th>mas.yr**-1</th><th>mas</th><th></th><th></th><th></th><th></th><th></th><th></th><th></th><th></th><th></th><th></th></tr></thead>\n",
       "<thead><tr><th>float64</th><th>float64</th><th>float64</th><th>float64</th><th>float64</th><th>float64</th><th>float64</th><th>float64</th><th>float64</th><th>float64</th><th>float32</th><th>float32</th><th>float32</th><th>float32</th><th>float32</th><th>float32</th><th>float32</th><th>float32</th><th>float32</th><th>float32</th></tr></thead>\n",
       "<tr><td>248.34395295303247</td><td>-21.851054421609053</td><td>-4.021422479224552</td><td>-50.052124146861516</td><td>5.126607275582762</td><td>3.7374754101905035e-08</td><td>2.211152237158604e-08</td><td>0.2931156711132743</td><td>0.19343479802611951</td><td>0.14985405101035867</td><td>-0.088819385</td><td>-0.23226261</td><td>-0.1390568</td><td>-0.23956393</td><td>-0.0882137</td><td>-0.19944146</td><td>-0.37281245</td><td>-0.11334002</td><td>0.24844542</td><td>0.021365503</td></tr>\n",
       "<tr><td>249.2123524673411</td><td>-21.340921302733484</td><td>15.856517579373627</td><td>-82.70786376207654</td><td>8.19930739961871</td><td>5.6092253100832855e-08</td><td>2.9720009045245648e-08</td><td>0.3996022878934149</td><td>0.2560106003457132</td><td>0.26239894688829335</td><td>-0.11182058</td><td>-0.43891943</td><td>-0.030037466</td><td>-0.3576663</td><td>-0.10069749</td><td>-0.21546216</td><td>-0.23302335</td><td>-0.058033083</td><td>0.5548116</td><td>0.13844003</td></tr>\n",
       "<tr><td>248.18316667864192</td><td>-21.866616864616198</td><td>-5.322411248016826</td><td>-1.5287905272623235</td><td>6.969830275128735</td><td>2.2245210837558924e-07</td><td>1.1042619098692154e-07</td><td>1.725413619873299</td><td>1.0046960791776165</td><td>0.9651091352496304</td><td>-0.0901254</td><td>-0.39778537</td><td>0.00082220405</td><td>-0.3913989</td><td>0.15507512</td><td>-0.3536008</td><td>-0.18037358</td><td>-0.24267799</td><td>0.38080788</td><td>0.2211686</td></tr>\n",
       "</table>"
      ],
      "text/plain": [
       "<Table masked=True length=3>\n",
       "        ra                 dec         ... parallax_pmdec_corr pmra_pmdec_corr\n",
       "       deg                 deg         ...                                    \n",
       "     float64             float64       ...       float32           float32    \n",
       "------------------ ------------------- ... ------------------- ---------------\n",
       "248.34395295303247 -21.851054421609053 ...          0.24844542     0.021365503\n",
       " 249.2123524673411 -21.340921302733484 ...           0.5548116      0.13844003\n",
       "248.18316667864192 -21.866616864616198 ...          0.38080788       0.2211686"
      ]
     },
     "execution_count": 2,
     "metadata": {},
     "output_type": "execute_result"
    }
   ],
   "source": [
    "# Specify inputs =======================================\n",
    "dir_1    = '/Users/' + user + '/Dropbox/Public/clustering_oph/gaia_cone/'\n",
    "tb_all   = dir_1 + 'entire_ophiuchus_cone-result.vot'\n",
    "\n",
    "\n",
    "# Read Entire Cone =====================================\n",
    "warnings.filterwarnings('ignore', category=AstropyWarning, append=True)\n",
    "tb_all   = Table.read(tb_all, format = 'votable')\n",
    "\n",
    "\n",
    "# Select parameter-cols ================================\n",
    "cols      = ['ra', 'dec', 'pmra', 'pmdec', 'parallax']\n",
    "cols_e    = [col + '_error' for col in cols]\n",
    "cols_corr = [col for col in tb_all.colnames if '_corr' in col]\n",
    "tb_all    = tb_all[cols + cols_e + cols_corr]\n",
    "\n",
    "\n",
    "# Ensure Units are uniform =============================\n",
    "for col in ['ra_error', 'dec_error']:\n",
    "    tb_all[col]      = tb_all[col]  * 1/1000  * 1/3600\n",
    "    tb_all[col].unit = u.deg\n",
    "\n",
    "tb_all[0:3]"
   ]
  },
  {
   "cell_type": "code",
   "execution_count": 3,
   "metadata": {},
   "outputs": [],
   "source": [
    "#Construct Covariance Matrix =========\n",
    "def get_corr(inp_row, columns, index_1, index_2):\n",
    "    return inp_row[columns[index_1] + '_' + columns[index_2] + '_corr']\n",
    "\n",
    "\n",
    "def corrsig(inp_row, columns, index_1, index_2):\n",
    "    out = get_corr(inp_row, columns, index_1, index_2) * inp_row[columns[index_1] + '_error'] * inp_row[columns[index_2] + '_error']\n",
    "    return out\n",
    "\n",
    "def draw_sample(inp, cols, cols_e, n_rep):\n",
    "    vals  = [inp[col] for col in cols]   # Values\n",
    "    sigs  = [inp[col] for col in cols_e] # Sigmas\n",
    "    row_0 = [sigs[0]**2             , corrsig(inp, cols, 0,1), corrsig(inp, cols, 0,2), corrsig(inp, cols, 0,3), corrsig(inp, cols, 0,4)]\n",
    "    row_1 = [corrsig(inp, cols, 0,1), sigs[1]**2             , corrsig(inp, cols, 1,2), corrsig(inp, cols, 1,3), corrsig(inp, cols, 1,4)]\n",
    "    row_2 = [corrsig(inp, cols, 0,2), corrsig(inp, cols, 1,2), sigs[2]**2             , corrsig(inp, cols, 2,3), corrsig(inp, cols, 4,2)]\n",
    "    row_3 = [corrsig(inp, cols, 0,3), corrsig(inp, cols, 1,3), corrsig(inp, cols, 2,3), sigs[3]**2             , corrsig(inp, cols, 4,3)]\n",
    "    row_4 = [corrsig(inp, cols, 0,4), corrsig(inp, cols, 1,4), corrsig(inp, cols, 4,2), corrsig(inp, cols, 4,3), sigs[4]**2             ]\n",
    "    cov   = np.array([row_0, row_1, row_2, row_3, row_4])  # Covariance Matrix\n",
    "    \n",
    "    return np.random.multivariate_normal(vals, cov, n_rep)"
   ]
  },
  {
   "cell_type": "code",
   "execution_count": 4,
   "metadata": {},
   "outputs": [],
   "source": [
    "# Create synthetic measurements ================\n",
    "N_REP    = 10000\n",
    "row_list = []\n",
    "\n",
    "for i in range(len(tb_all)):\n",
    "    row_list.append(draw_sample(tb_all[i], cols , cols_e, N_REP))\n",
    "    \n",
    "# Save it as a fits file =======================\n",
    "ndarr = [inp for inp in row_list]\n",
    "hdu   = fits.PrimaryHDU(ndarr)\n",
    "hdul  = fits.HDUList([hdu])\n",
    "hdul.writeto('syn_data.fits', overwrite = True)"
   ]
  }
 ],
 "metadata": {
  "kernelspec": {
   "display_name": "Python 3",
   "language": "python",
   "name": "python3"
  },
  "language_info": {
   "codemirror_mode": {
    "name": "ipython",
    "version": 3
   },
   "file_extension": ".py",
   "mimetype": "text/x-python",
   "name": "python",
   "nbconvert_exporter": "python",
   "pygments_lexer": "ipython3",
   "version": "3.6.8"
  }
 },
 "nbformat": 4,
 "nbformat_minor": 1
}
