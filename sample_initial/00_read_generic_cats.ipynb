{
 "cells": [
  {
   "cell_type": "markdown",
   "metadata": {},
   "source": [
    "## Read generic/ALL-SKY SFR catalogues"
   ]
  },
  {
   "cell_type": "code",
   "execution_count": 1,
   "metadata": {},
   "outputs": [],
   "source": [
    "import numpy as np\n",
    "from astropy.table import Table, join, vstack, hstack, Column, MaskedColumn, unique\n",
    "import warnings\n",
    "import os, glob, getpass, sys\n",
    "from astropy.utils.exceptions import AstropyWarning\n",
    "from astropy import units as u\n",
    "from astropy.coordinates import SkyCoord  # High-level coordinates\n",
    "\n",
    "user = getpass.getuser()\n",
    "sys.path.append('/Users/' + user + '/Dropbox/my_python_packages')"
   ]
  },
  {
   "cell_type": "code",
   "execution_count": 2,
   "metadata": {},
   "outputs": [
    {
     "data": {
      "text/html": [
       "<i>Table masked=True length=73</i>\n",
       "<table id=\"table4613116144\" class=\"table-striped table-bordered table-condensed\">\n",
       "<thead><tr><th>Name</th><th>RAJ2000</th><th>DEJ2000</th><th>Dist</th><th>RAJ2000_d</th><th>DEJ2000_d</th></tr></thead>\n",
       "<thead><tr><th></th><th>&quot;h:m:s&quot;</th><th>&quot;d:m:s&quot;</th><th>pc</th><th>deg</th><th>deg</th></tr></thead>\n",
       "<thead><tr><th>str27</th><th>str8</th><th>str9</th><th>int16</th><th>float64</th><th>float64</th></tr></thead>\n",
       "<tr><td>NGC 7822</td><td>00 03 59</td><td>+68 34 41</td><td>850</td><td>0.99583</td><td>68.57806</td></tr>\n",
       "<tr><td>Mac H12</td><td>00 07 02</td><td>+65 38 39</td><td>850</td><td>1.75833</td><td>65.64417</td></tr>\n",
       "<tr><td>VX Cas</td><td>00 31 30</td><td>+61 58 51</td><td>760</td><td>7.87500</td><td>61.98083</td></tr>\n",
       "<tr><td>RNO 1B</td><td>00 36 47</td><td>+63 28 59</td><td>850</td><td>9.19583</td><td>63.48306</td></tr>\n",
       "<tr><td>MBM 12</td><td>02 56 03</td><td>+20 06 01</td><td>275</td><td>44.01250</td><td>20.10028</td></tr>\n",
       "<tr><td>AFGL 490</td><td>03 27 39</td><td>+58 46 58</td><td>900</td><td>51.91250</td><td>58.78278</td></tr>\n",
       "<tr><td>NGC 1333</td><td>03 28 54</td><td>+31 19 19</td><td>350</td><td>52.22500</td><td>31.32194</td></tr>\n",
       "<tr><td>IC 348</td><td>03 44 30</td><td>+32 17 00</td><td>320</td><td>56.12500</td><td>32.28333</td></tr>\n",
       "<tr><td>XY Per</td><td>03 49 36</td><td>+38 58 56</td><td>160</td><td>57.40000</td><td>38.98222</td></tr>\n",
       "<tr><td>...</td><td>...</td><td>...</td><td>...</td><td>...</td><td>...</td></tr>\n",
       "<tr><td>IC 5146</td><td>21 53 29</td><td>+47 16 00</td><td>900</td><td>328.37083</td><td>47.26667</td></tr>\n",
       "<tr><td>LkH{alpha} 257</td><td>21 54 19</td><td>+47 12 11</td><td>900</td><td>328.57917</td><td>47.20306</td></tr>\n",
       "<tr><td>Gy 2-21</td><td>22 06 49</td><td>+59 02 11</td><td>200</td><td>331.70417</td><td>59.03639</td></tr>\n",
       "<tr><td>S 140</td><td>22 19 18</td><td>+63 18 48</td><td>910</td><td>334.82500</td><td>63.31333</td></tr>\n",
       "<tr><td>S 140N</td><td>22 19 28</td><td>+63 32 56</td><td>900</td><td>334.86667</td><td>63.54889</td></tr>\n",
       "<tr><td>L1206</td><td>22 28 52</td><td>+64 13 44</td><td>900</td><td>337.21667</td><td>64.22889</td></tr>\n",
       "<tr><td>L1211</td><td>22 47 17</td><td>+62 01 58</td><td>750</td><td>341.82083</td><td>62.03278</td></tr>\n",
       "<tr><td>HD 216629</td><td>22 53 15</td><td>+62 08 45</td><td>725</td><td>343.31250</td><td>62.14583</td></tr>\n",
       "<tr><td>Cep A</td><td>22 56 19</td><td>+62 01 58</td><td>700</td><td>344.07917</td><td>62.03278</td></tr>\n",
       "<tr><td>Cep C</td><td>23 05 49</td><td>+62 30 02</td><td>750</td><td>346.45417</td><td>62.50056</td></tr>\n",
       "</table>"
      ],
      "text/plain": [
       "<Table masked=True length=73>\n",
       "     Name      RAJ2000   DEJ2000   Dist RAJ2000_d DEJ2000_d\n",
       "               \"h:m:s\"   \"d:m:s\"    pc     deg       deg   \n",
       "    str27        str8      str9   int16  float64   float64 \n",
       "-------------- -------- --------- ----- --------- ---------\n",
       "      NGC 7822 00 03 59 +68 34 41   850   0.99583  68.57806\n",
       "       Mac H12 00 07 02 +65 38 39   850   1.75833  65.64417\n",
       "        VX Cas 00 31 30 +61 58 51   760   7.87500  61.98083\n",
       "        RNO 1B 00 36 47 +63 28 59   850   9.19583  63.48306\n",
       "        MBM 12 02 56 03 +20 06 01   275  44.01250  20.10028\n",
       "      AFGL 490 03 27 39 +58 46 58   900  51.91250  58.78278\n",
       "      NGC 1333 03 28 54 +31 19 19   350  52.22500  31.32194\n",
       "        IC 348 03 44 30 +32 17 00   320  56.12500  32.28333\n",
       "        XY Per 03 49 36 +38 58 56   160  57.40000  38.98222\n",
       "           ...      ...       ...   ...       ...       ...\n",
       "       IC 5146 21 53 29 +47 16 00   900 328.37083  47.26667\n",
       "LkH{alpha} 257 21 54 19 +47 12 11   900 328.57917  47.20306\n",
       "       Gy 2-21 22 06 49 +59 02 11   200 331.70417  59.03639\n",
       "         S 140 22 19 18 +63 18 48   910 334.82500  63.31333\n",
       "        S 140N 22 19 28 +63 32 56   900 334.86667  63.54889\n",
       "         L1206 22 28 52 +64 13 44   900 337.21667  64.22889\n",
       "         L1211 22 47 17 +62 01 58   750 341.82083  62.03278\n",
       "     HD 216629 22 53 15 +62 08 45   725 343.31250  62.14583\n",
       "         Cep A 22 56 19 +62 01 58   700 344.07917  62.03278\n",
       "         Cep C 23 05 49 +62 30 02   750 346.45417  62.50056"
      ]
     },
     "execution_count": 2,
     "metadata": {},
     "output_type": "execute_result"
    }
   ],
   "source": [
    "# Read Porras+2003 SFR source cat & add coordinates ========\n",
    "read_cat = True\n",
    "if read_cat:\n",
    "    warnings.filterwarnings('ignore', category=AstropyWarning, append=True)\n",
    "    cat    = Table.read('2003_porras.vot')\n",
    "    cat.convert_bytestring_to_unicode()\n",
    "    coords = [SkyCoord((cat['RAJ2000'][i] +  cat['DEJ2000'][i]), unit = (u.hourangle, u.degree)) for i in range(len(cat))]\n",
    "\n",
    "    cat['RAJ2000_d'] = [inp.ra.deg  for inp in coords]\n",
    "    cat['DEJ2000_d'] = [inp.dec.deg for inp in coords]\n",
    "    for inp in ['RAJ2000_d', 'DEJ2000_d']:\n",
    "        cat[inp].unit   = u.degree\n",
    "        cat[inp].format = '8.5f'\n",
    "\n",
    "cat.remove_columns(['GNum', 'SNum', 'l_Nst', 'Nst', 'e_Nst', 'r_RAh', 'EDist', 'r_Dist', 'r_Nst'])\n",
    "cat.group_by('RAJ2000_d')"
   ]
  },
  {
   "cell_type": "code",
   "execution_count": 3,
   "metadata": {},
   "outputs": [],
   "source": [
    "# Compute distance between cluster centers\n",
    "# This might be useful for future studies\n",
    "cat['nearest_dist']        = 0.0 * len(cat)\n",
    "cat['nearest_dist'].unit   = u.degree\n",
    "cat['nearest_dist'].format = '5.2f'\n",
    "cat['nearest_name']        = cat['Name']\n",
    "\n",
    "\n",
    "for i in range(len(cat)):\n",
    "    center_0     = SkyCoord(cat['RAJ2000_d'][i]  * u.degree, cat['DEJ2000_d'][i] * u.degree, frame = 'icrs')\n",
    "    decs         = iter(cat['DEJ2000_d'])\n",
    "    name         = iter(cat['Name'])\n",
    "    seps, names  = [], []\n",
    "\n",
    "    for ra in cat['RAJ2000_d']:\n",
    "        coords_0 = SkyCoord(ra  * u.degree, next(decs) * u.degree, frame = 'icrs')\n",
    "        seps.append(coords_0.separation(center_0).degree)\n",
    "        names.append(next(name))\n",
    "\n",
    "    tab = Table([seps, names], names = ['nearest_dist', 'nearest_name'])\n",
    "    tab = tab.group_by('nearest_dist')\n",
    "\n",
    "    cat['nearest_dist'][i] = tab['nearest_dist'][1]\n",
    "    cat['nearest_name'][i] = tab['nearest_name'][1]"
   ]
  },
  {
   "cell_type": "code",
   "execution_count": 4,
   "metadata": {},
   "outputs": [
    {
     "name": "stdout",
     "output_type": "stream",
     "text": [
      "Region         Mean RA  Mean DEC\n",
      "--------------------------------\n",
      "LOri             83.84      9.89\n",
      "BPI             206.09    -29.58\n",
      "CAR             132.79    -61.84\n",
      "CrA             284.16    -36.68\n",
      "TWA             175.30    -35.91\n",
      "ChaI            167.13    -77.01\n",
      "SOri             84.71     -2.58\n",
      "NGC1333          52.28     31.34\n",
      "25Ori            81.41      1.65\n",
      "Serpens         277.38      0.75\n",
      "ARG             134.34    -54.10\n",
      "USco            241.86    -22.06\n",
      "Taurus           67.73     25.80\n",
      "COL              76.36    -31.30\n",
      "THA              99.48    -53.38\n",
      "OCT             160.03    -57.53\n",
      "ABD             154.86    -25.56\n",
      "Oph             246.78    -24.42\n",
      "ChaII           196.09    -77.38\n",
      "Lupus           238.43    -38.76\n",
      "ECH             169.59    -76.43\n",
      "IC348            56.13     32.14\n"
     ]
    }
   ],
   "source": [
    "# Read Ribas catalogue =====================================\n",
    "cat_2 = Table.read('2015_Ribas.csv', format = 'ascii.csv')\n",
    "cat_2 = cat_2.group_by('RA')\n",
    "regs  = [reg for reg in set(cat_2['Region'])]\n",
    "\n",
    "# Compute mean coordinates for each SFR ====================\n",
    "print(f'{\"Region\":<7s}{\"Mean RA\":>15s}{\"Mean DEC\":>10s}')\n",
    "print('-'*(7+15+10))\n",
    "for reg in regs:\n",
    "    ra_vals  = cat_2['RA'][cat_2['Region'] == reg]\n",
    "    dec_vals = cat_2['Dec'][cat_2['Region'] == reg] \n",
    "    print(f'{reg:<7s}{np.mean(ra_vals):>15.2f}{np.mean(dec_vals):>10.2f}')\n",
    "      "
   ]
  },
  {
   "cell_type": "code",
   "execution_count": 5,
   "metadata": {},
   "outputs": [
    {
     "data": {
      "text/html": [
       "<i>Table masked=True length=256</i>\n",
       "<table id=\"table4612741944\" class=\"table-striped table-bordered table-condensed\">\n",
       "<thead><tr><th>Name</th><th>RA</th><th>Dec</th><th>Region</th><th>IRAC1</th><th>IRAC2</th><th>IRAC3</th><th>IRAC4</th><th>MIPS1</th><th>WISE1</th><th>WISE2</th><th>WISE3</th><th>WISE4</th></tr></thead>\n",
       "<thead><tr><th>str29</th><th>float64</th><th>float64</th><th>str7</th><th>float64</th><th>float64</th><th>float64</th><th>float64</th><th>float64</th><th>float64</th><th>float64</th><th>float64</th><th>float64</th></tr></thead>\n",
       "<tr><td>Erickson2011_1</td><td>246.163116455</td><td>-24.1193199158</td><td>Oph</td><td>0.0175</td><td>0.011</td><td>0.00776</td><td>0.00494</td><td>--</td><td>0.01836</td><td>0.01048</td><td>0.004562</td><td>--</td></tr>\n",
       "<tr><td>Erickson2011_2</td><td>246.165405273</td><td>-24.5858879089</td><td>Oph</td><td>0.0343</td><td>0.0258</td><td>0.0178</td><td>0.0107</td><td>--</td><td>0.03466</td><td>0.02452</td><td>0.01028</td><td>0.02493</td></tr>\n",
       "<tr><td>Erickson2011_3</td><td>246.168838501</td><td>-24.71941185</td><td>Oph</td><td>0.0405</td><td>0.0259</td><td>0.0192</td><td>0.0117</td><td>--</td><td>0.04367</td><td>0.0257</td><td>0.004857</td><td>0.01335</td></tr>\n",
       "<tr><td>Erickson2011_4</td><td>246.169433594</td><td>-24.3612785339</td><td>Oph</td><td>0.0407</td><td>0.0256</td><td>0.0188</td><td>0.0119</td><td>--</td><td>0.0444</td><td>0.02533</td><td>0.01472</td><td>0.02838</td></tr>\n",
       "<tr><td>Erickson2011_5</td><td>246.171020508</td><td>-24.2969017029</td><td>Oph</td><td>0.11</td><td>0.0654</td><td>0.0525</td><td>0.0321</td><td>0.00282</td><td>0.1167</td><td>0.06692</td><td>0.0407</td><td>0.0666</td></tr>\n",
       "<tr><td>Erickson2011_6</td><td>246.182922363</td><td>-24.7984466553</td><td>Oph</td><td>0.0569</td><td>0.0365</td><td>0.027</td><td>0.0162</td><td>0.00138</td><td>0.064</td><td>0.03568</td><td>0.006014</td><td>--</td></tr>\n",
       "<tr><td>Erickson2011_7</td><td>246.186904907</td><td>-25.0056858063</td><td>Oph</td><td>--</td><td>--</td><td>--</td><td>--</td><td>--</td><td>0.004801</td><td>0.003296</td><td>--</td><td>--</td></tr>\n",
       "<tr><td>Erickson2011_8</td><td>246.195007324</td><td>-24.3725166321</td><td>Oph</td><td>0.248</td><td>0.159</td><td>0.125</td><td>0.0744</td><td>0.00678</td><td>0.2901</td><td>0.1567</td><td>0.04492</td><td>0.07343</td></tr>\n",
       "<tr><td>Erickson2011_9</td><td>246.195251465</td><td>-24.3672657013</td><td>Oph</td><td>0.174</td><td>0.106</td><td>0.0825</td><td>0.0515</td><td>0.00389</td><td>0.2003</td><td>0.1083</td><td>0.04262</td><td>0.08022</td></tr>\n",
       "<tr><td>Erickson2011_10</td><td>246.198913574</td><td>-24.8832168579</td><td>Oph</td><td>--</td><td>0.0226</td><td>--</td><td>0.00973</td><td>0.000955</td><td>0.03994</td><td>0.022</td><td>0.003736</td><td>--</td></tr>\n",
       "<tr><td>...</td><td>...</td><td>...</td><td>...</td><td>...</td><td>...</td><td>...</td><td>...</td><td>...</td><td>...</td><td>...</td><td>...</td><td>...</td></tr>\n",
       "<tr><td>Erickson2011_174</td><td>247.348510742</td><td>-24.7318916321</td><td>Oph</td><td>0.031</td><td>0.0196</td><td>0.0136</td><td>0.00829</td><td>--</td><td>0.03371</td><td>0.01865</td><td>0.003851</td><td>--</td></tr>\n",
       "<tr><td>Erickson2011_175</td><td>247.349243164</td><td>-24.486207962</td><td>Oph</td><td>0.00117</td><td>0.000772</td><td>0.000527</td><td>0.000325</td><td>--</td><td>0.001278</td><td>0.0007047</td><td>--</td><td>--</td></tr>\n",
       "<tr><td>Erickson2011_177</td><td>247.35144043</td><td>-24.1502304077</td><td>Oph</td><td>0.034</td><td>0.0218</td><td>0.0159</td><td>0.00938</td><td>--</td><td>0.03758</td><td>0.02103</td><td>0.003869</td><td>--</td></tr>\n",
       "<tr><td>Erickson2011_176</td><td>247.351623535</td><td>-24.5151824951</td><td>Oph</td><td>0.000272</td><td>0.000173</td><td>--</td><td>--</td><td>--</td><td>0.0002807</td><td>0.0001391</td><td>--</td><td>--</td></tr>\n",
       "<tr><td>Erickson2011_178</td><td>247.352218628</td><td>-24.1132926941</td><td>Oph</td><td>0.0234</td><td>0.0282</td><td>0.0204</td><td>0.0128</td><td>0.00117</td><td>0.04954</td><td>0.02759</td><td>0.00511</td><td>--</td></tr>\n",
       "<tr><td>Erickson2011_179</td><td>247.35609436</td><td>-24.6599197388</td><td>Oph</td><td>0.179</td><td>0.108</td><td>0.0827</td><td>0.0487</td><td>0.00482</td><td>0.1863</td><td>0.1061</td><td>0.01768</td><td>--</td></tr>\n",
       "<tr><td>Erickson2011_180</td><td>247.362625122</td><td>-24.3884181976</td><td>Oph</td><td>0.00205</td><td>0.0015</td><td>0.00103</td><td>0.000579</td><td>--</td><td>0.002102</td><td>0.001389</td><td>--</td><td>--</td></tr>\n",
       "<tr><td>Erickson2011_181</td><td>247.36869812</td><td>-24.3573799133</td><td>Oph</td><td>0.00117</td><td>0.000759</td><td>0.000519</td><td>0.000274</td><td>--</td><td>0.001242</td><td>0.0006937</td><td>--</td><td>--</td></tr>\n",
       "<tr><td>Erickson2011_182</td><td>247.383087158</td><td>-24.0968494415</td><td>Oph</td><td>0.0294</td><td>0.0174</td><td>0.0125</td><td>0.00751</td><td>--</td><td>0.03181</td><td>0.01709</td><td>0.00337</td><td>--</td></tr>\n",
       "<tr><td>Erickson2011_183</td><td>247.384750366</td><td>-24.6018047333</td><td>Oph</td><td>0.0497</td><td>0.0308</td><td>0.0228</td><td>0.0137</td><td>0.00157</td><td>0.05231</td><td>0.02995</td><td>0.005577</td><td>--</td></tr>\n",
       "</table>"
      ],
      "text/plain": [
       "<Table masked=True length=256>\n",
       "      Name             RA           Dec       ...   WISE2    WISE3    WISE4 \n",
       "     str29          float64       float64     ...  float64  float64  float64\n",
       "---------------- ------------- -------------- ... --------- -------- -------\n",
       "  Erickson2011_1 246.163116455 -24.1193199158 ...   0.01048 0.004562      --\n",
       "  Erickson2011_2 246.165405273 -24.5858879089 ...   0.02452  0.01028 0.02493\n",
       "  Erickson2011_3 246.168838501   -24.71941185 ...    0.0257 0.004857 0.01335\n",
       "  Erickson2011_4 246.169433594 -24.3612785339 ...   0.02533  0.01472 0.02838\n",
       "  Erickson2011_5 246.171020508 -24.2969017029 ...   0.06692   0.0407  0.0666\n",
       "  Erickson2011_6 246.182922363 -24.7984466553 ...   0.03568 0.006014      --\n",
       "  Erickson2011_7 246.186904907 -25.0056858063 ...  0.003296       --      --\n",
       "  Erickson2011_8 246.195007324 -24.3725166321 ...    0.1567  0.04492 0.07343\n",
       "  Erickson2011_9 246.195251465 -24.3672657013 ...    0.1083  0.04262 0.08022\n",
       " Erickson2011_10 246.198913574 -24.8832168579 ...     0.022 0.003736      --\n",
       "             ...           ...            ... ...       ...      ...     ...\n",
       "Erickson2011_174 247.348510742 -24.7318916321 ...   0.01865 0.003851      --\n",
       "Erickson2011_175 247.349243164  -24.486207962 ... 0.0007047       --      --\n",
       "Erickson2011_177  247.35144043 -24.1502304077 ...   0.02103 0.003869      --\n",
       "Erickson2011_176 247.351623535 -24.5151824951 ... 0.0001391       --      --\n",
       "Erickson2011_178 247.352218628 -24.1132926941 ...   0.02759  0.00511      --\n",
       "Erickson2011_179  247.35609436 -24.6599197388 ...    0.1061  0.01768      --\n",
       "Erickson2011_180 247.362625122 -24.3884181976 ...  0.001389       --      --\n",
       "Erickson2011_181  247.36869812 -24.3573799133 ... 0.0006937       --      --\n",
       "Erickson2011_182 247.383087158 -24.0968494415 ...   0.01709  0.00337      --\n",
       "Erickson2011_183 247.384750366 -24.6018047333 ...   0.02995 0.005577      --"
      ]
     },
     "execution_count": 5,
     "metadata": {},
     "output_type": "execute_result"
    }
   ],
   "source": [
    "#Print OPH members =========================================\n",
    "cat_2[cat_2['Region'] == 'Oph']"
   ]
  },
  {
   "cell_type": "code",
   "execution_count": 6,
   "metadata": {},
   "outputs": [
    {
     "name": "stdout",
     "output_type": "stream",
     "text": [
      "<SkyCoord (Galactic): (l, b) in deg\n",
      "    (352.99918914, 17.59237962)>\n",
      "<SkyCoord (Galactic): (l, b) in deg\n",
      "    (17.46325958, 17.73882391)>\n"
     ]
    }
   ],
   "source": [
    "# Derive Galactic Coordinates; useful for ADQL query the Gaia Synthetic sample\n",
    "# \n",
    "# Ophiuchus center in Galactic Coordinates\n",
    "c_icrs = SkyCoord(ra=246*u.degree, dec=-24*u.degree, frame='icrs')\n",
    "print(c_icrs.galactic)\n",
    "\n",
    "# Gaia Background center =================\n",
    "c_icrs = SkyCoord(ra=260*u.degree, dec=-5*u.degree, frame='icrs')\n",
    "print(c_icrs.galactic)"
   ]
  },
  {
   "cell_type": "code",
   "execution_count": null,
   "metadata": {},
   "outputs": [],
   "source": []
  }
 ],
 "metadata": {
  "kernelspec": {
   "display_name": "Python 3",
   "language": "python",
   "name": "python3"
  },
  "language_info": {
   "codemirror_mode": {
    "name": "ipython",
    "version": 3
   },
   "file_extension": ".py",
   "mimetype": "text/x-python",
   "name": "python",
   "nbconvert_exporter": "python",
   "pygments_lexer": "ipython3",
   "version": "3.6.8"
  }
 },
 "nbformat": 4,
 "nbformat_minor": 2
}
