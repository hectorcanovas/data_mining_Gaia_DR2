{
 "cells": [
  {
   "cell_type": "markdown",
   "metadata": {},
   "source": [
    "# 1.- Inspect 2MASS output Catalogues"
   ]
  },
  {
   "cell_type": "code",
   "execution_count": 1,
   "metadata": {},
   "outputs": [],
   "source": [
    "import numpy as np\n",
    "import warnings\n",
    "import os, glob, getpass, sys\n",
    "\n",
    "from astropy.table            import Table, join, vstack, hstack, Column, MaskedColumn, unique\n",
    "from astropy.utils.exceptions import AstropyWarning\n",
    "from astropy                  import units as u\n",
    "\n",
    "user = getpass.getuser()\n",
    "sys.path.append('/Users/hcanovas/Astrofisica/papers/2019_clustering_oph_final/')\n",
    "from extra_codes import sample_initial as samp_ini"
   ]
  },
  {
   "cell_type": "markdown",
   "metadata": {},
   "source": [
    "### READ Original & 2MASS-CROSSED CATALOGUES"
   ]
  },
  {
   "cell_type": "code",
   "execution_count": 2,
   "metadata": {},
   "outputs": [
    {
     "name": "stdout",
     "output_type": "stream",
     "text": [
      "Input Targets in 2MASS Catalogue:        314\n",
      "Missing 2MASS targets:                     0\n",
      "\n",
      "Input Targets in 2MASS Catalogue:         74\n",
      "Missing 2MASS targets:                     1\n",
      "\n",
      "Input Targets in 2MASS Catalogue:         44\n",
      "Missing 2MASS targets:                     0\n",
      "\n",
      "Input Targets in 2MASS Catalogue:         17\n",
      "Missing 2MASS targets:                     0\n",
      "\n",
      "Input Targets in 2MASS Catalogue:        292\n",
      "Missing 2MASS targets:                    10\n",
      "\n"
     ]
    }
   ],
   "source": [
    "# Read Original & 2MASS Crossed catalogues =============\n",
    "warnings.filterwarnings('ignore', category=AstropyWarning, append=True)\n",
    "\n",
    "cat_0, cat_0_t = samp_ini.read_cats(inp_cat='2008_wilking_simbad.xml', inp_cat_2mass='2008_wilking_simbad_2mass.vot')\n",
    "cat_1, cat_1_t = samp_ini.read_cats(inp_cat='cat_erickson_1.vot',      inp_cat_2mass='cat_erickson_1_tmasss.vot')\n",
    "cat_2, cat_2_t = samp_ini.read_cats(inp_cat='cat_erickson_2.vot',      inp_cat_2mass='cat_erickson_2_tmasss.vot')\n",
    "cat_3, cat_3_t = samp_ini.read_cats(inp_cat='cat_erickson_3.vot',      inp_cat_2mass='cat_erickson_3_tmasss.vot')\n",
    "cat_4, cat_4_t = samp_ini.read_cats(inp_cat='2015_dunham_OPH_YSO.vot', inp_cat_2mass='2015_dunham_OPH_YSO_tmasss.vot')\n",
    "\n",
    "# Rename cats for later ================================\n",
    "cat_2008 = cat_0_t\n",
    "cat_2011 = vstack([cat_1_t, cat_2_t, cat_3_t])\n",
    "cat_2015 = cat_4_t"
   ]
  },
  {
   "cell_type": "markdown",
   "metadata": {},
   "source": [
    "# 2.- Construct Gaia Dr2 Input Table "
   ]
  },
  {
   "cell_type": "code",
   "execution_count": 3,
   "metadata": {},
   "outputs": [
    {
     "name": "stdout",
     "output_type": "stream",
     "text": [
      "============================================\n",
      "TOTAL SOURCES AFTER REMOVING DUPLICATES: 465\n",
      "============================================\n"
     ]
    }
   ],
   "source": [
    "# Construct Initial Sample =============================\n",
    "cat_ini = vstack([cat_2008, cat_2011, cat_2015])\n",
    "cat_ini = unique(cat_ini, keys='_2MASS')\n",
    "cat_ini = cat_ini['_2MASS', 'Jmag']\n",
    "\n",
    "text    = f'TOTAL SOURCES AFTER REMOVING DUPLICATES: {len(cat_ini)}'\n",
    "print('=' * len(text))\n",
    "print(text)\n",
    "print('=' * len(text))"
   ]
  },
  {
   "cell_type": "code",
   "execution_count": 4,
   "metadata": {},
   "outputs": [
    {
     "data": {
      "text/plain": [
       "{'NNY', 'NYN', 'NYY', 'YNN', 'YNY', 'YYN', 'YYY'}"
      ]
     },
     "execution_count": 4,
     "metadata": {},
     "output_type": "execute_result"
    }
   ],
   "source": [
    "# Include Source Label =================================\n",
    "cat_ini['ref_1'] = ['N'] * len(cat_ini)\n",
    "cat_ini['ref_2'] = ['N'] * len(cat_ini)\n",
    "cat_ini['ref_3'] = ['N'] * len(cat_ini)\n",
    "\n",
    "\n",
    "# Write labels =========================================\n",
    "for i in range(len(cat_ini)):\n",
    "    tmass = cat_ini['_2MASS'][i]\n",
    "    if tmass in cat_2008['_2MASS']: cat_ini['ref_1'][i] = 'Y' # Wilking 2008\n",
    "    if tmass in cat_2011['_2MASS']: cat_ini['ref_2'][i] = 'Y' # Erickson 2011\n",
    "    if tmass in cat_2015['_2MASS']: cat_ini['ref_3'][i] = 'Y' # Dunham 2015\n",
    "\n",
    "\n",
    "cat_ini['refs'] = [cat_ini['ref_1'][i] + cat_ini['ref_2'][i] + cat_ini['ref_3'][i] for i in range(len(cat_ini))]\n",
    "set(cat_ini['refs'])"
   ]
  },
  {
   "cell_type": "code",
   "execution_count": 5,
   "metadata": {},
   "outputs": [],
   "source": [
    "# Rewrite Reference label ==============================\n",
    "# To check all permutations: set(cat_ini['refs'])\n",
    "cat_ini['refs_2'] = ['1, 2, 3'] * len(cat_ini)\n",
    "\n",
    "for i in range(len(cat_ini)):\n",
    "    label = cat_ini['refs'][i]\n",
    "\n",
    "    if label == 'NNY': label_2 = '3'\n",
    "    if label == 'NYN': label_2 = '2'\n",
    "    if label == 'NYY': label_2 = '2, 3'\n",
    "    if label == 'YNN': label_2 = '1'\n",
    "    if label == 'YNY': label_2 = '1, 3'\n",
    "    if label == 'YYN': label_2 = '1, 2'\n",
    "    if label == 'YYY': label_2 = '1, 2, 3'\n",
    "\n",
    "    cat_ini['refs_2'][i] = label_2"
   ]
  },
  {
   "cell_type": "code",
   "execution_count": 6,
   "metadata": {},
   "outputs": [
    {
     "data": {
      "text/html": [
       "<i>Table masked=True length=5</i>\n",
       "<table id=\"table4842333800\" class=\"table-striped table-bordered table-condensed\">\n",
       "<thead><tr><th>col2mass</th><th>jmag</th><th>refs_2</th></tr></thead>\n",
       "<thead><tr><th></th><th>mag</th><th></th></tr></thead>\n",
       "<thead><tr><th>str17</th><th>float32</th><th>str7</th></tr></thead>\n",
       "<tr><td>16253812-2422362</td><td>12.838</td><td>1, 3</td></tr>\n",
       "<tr><td>16253943-2326419</td><td>10.962</td><td>3</td></tr>\n",
       "<tr><td>16253958-2426349</td><td>11.893</td><td>1, 2, 3</td></tr>\n",
       "<tr><td>16254129-2421366</td><td>13.213</td><td>1</td></tr>\n",
       "<tr><td>16254289-2325260</td><td>10.695</td><td>3</td></tr>\n",
       "</table>"
      ],
      "text/plain": [
       "<Table masked=True length=5>\n",
       "    col2mass       jmag   refs_2\n",
       "                   mag          \n",
       "     str17       float32   str7 \n",
       "---------------- ------- -------\n",
       "16253812-2422362  12.838    1, 3\n",
       "16253943-2326419  10.962       3\n",
       "16253958-2426349  11.893 1, 2, 3\n",
       "16254129-2421366  13.213       1\n",
       "16254289-2325260  10.695       3"
      ]
     },
     "execution_count": 6,
     "metadata": {},
     "output_type": "execute_result"
    }
   ],
   "source": [
    "# Write & Remove unwanted cols =========================\n",
    "cat_ini = cat_ini['_2MASS', 'Jmag', 'refs_2']\n",
    "cat_ini.rename_column('_2MASS', 'col2mass') # For Gaia Archive\n",
    "cat_ini.rename_column('Jmag', 'jmag')       # For Gaia Archive\n",
    "cat_ini.write('sample_ini.vot', format = 'votable', overwrite = True)\n",
    "cat_ini[75:80]"
   ]
  },
  {
   "cell_type": "code",
   "execution_count": 7,
   "metadata": {},
   "outputs": [
    {
     "data": {
      "text/plain": [
       "(465, 465)"
      ]
     },
     "execution_count": 7,
     "metadata": {},
     "output_type": "execute_result"
    }
   ],
   "source": [
    "# Sanity Check: There are no duplicate 2MASS IDs =======\n",
    "len(cat_ini), len(unique(cat_ini, 'col2mass'))"
   ]
  }
 ],
 "metadata": {
  "kernelspec": {
   "display_name": "Python 3",
   "language": "python",
   "name": "python3"
  },
  "language_info": {
   "codemirror_mode": {
    "name": "ipython",
    "version": 3
   },
   "file_extension": ".py",
   "mimetype": "text/x-python",
   "name": "python",
   "nbconvert_exporter": "python",
   "pygments_lexer": "ipython3",
   "version": "3.6.8"
  }
 },
 "nbformat": 4,
 "nbformat_minor": 2
}
