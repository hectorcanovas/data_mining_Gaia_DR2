{
 "cells": [
  {
   "cell_type": "markdown",
   "metadata": {},
   "source": [
    "# 1.- Crossmatch Sample Initial, Gaia, and Control"
   ]
  },
  {
   "cell_type": "code",
   "execution_count": 1,
   "metadata": {},
   "outputs": [],
   "source": [
    "import numpy as np\n",
    "import warnings\n",
    "import os, glob, getpass, sys\n",
    "\n",
    "from astropy.table            import Table, join, vstack, hstack, Column, MaskedColumn, unique\n",
    "from astropy.utils.exceptions import AstropyWarning\n",
    "from astropy                  import units as u\n",
    "import collections\n",
    "\n",
    "user = getpass.getuser()\n",
    "path = '/Users/hcanovas/Astrofisica/papers/2019_clustering_oph_final/'\n",
    "sys.path.append(path)"
   ]
  },
  {
   "cell_type": "code",
   "execution_count": 2,
   "metadata": {},
   "outputs": [
    {
     "name": "stdout",
     "output_type": "stream",
     "text": [
      "\n",
      "Elements in Sample Ini:             465\n",
      "Elements in Sample Ini*Gaia:        304\n",
      "Elements in Sample Control:         188\n",
      "\n"
     ]
    }
   ],
   "source": [
    "# Read Samples ================================\n",
    "warnings.filterwarnings('ignore', category=AstropyWarning, append=True)\n",
    "\n",
    "cat_ini     = Table.read(path + 'sample_initial/sample_ini.vot')\n",
    "cat_igaia   = Table.read(path + 'sample_initial/sample_initial_oph_x_gaia-result.vot')\n",
    "cat_control = Table.read(path + 'sample_control/OPH___control_sample.vot')\n",
    "\n",
    "# Apply Cosmetics =============================\n",
    "cat_ini = cat_ini.group_by('col2mass')\n",
    "cat_ini = cat_ini['col2mass', 'refs_2']\n",
    "cat_ini.rename_column('refs_2', 'Ref.')\n",
    "\n",
    "cat_igaia.convert_bytestring_to_unicode()\n",
    "# cat_igaia.rename_column('col2mass', '_2MASS')\n",
    "cat_igaia   = cat_igaia['source_id', 'col2mass']\n",
    "cat_igaia   = cat_igaia[cat_igaia['source_id'].mask == False]\n",
    "cat_igaia   = unique(cat_igaia, keys='source_id')\n",
    "\n",
    "cat_control.convert_bytestring_to_unicode()\n",
    "# cat_control.rename_column('col2mass', '_2MASS')\n",
    "cat_control = cat_control['source_id', 'col2mass']\n",
    "cat_control['Control'] = ['Y'] * len(cat_control)\n",
    "\n",
    "print()\n",
    "print(f'Elements in Sample Ini:      {len(cat_ini):10.0f}')\n",
    "print(f'Elements in Sample Ini*Gaia: {len(cat_igaia):10.0f}')\n",
    "print(f'Elements in Sample Control:  {len(cat_control):10.0f}')\n",
    "print()"
   ]
  },
  {
   "cell_type": "code",
   "execution_count": 3,
   "metadata": {},
   "outputs": [
    {
     "name": "stdout",
     "output_type": "stream",
     "text": [
      "Lenght Merged:         465\n",
      "Control in Merged:     188\n"
     ]
    },
    {
     "data": {
      "text/html": [
       "<i>Table masked=True length=3</i>\n",
       "<table id=\"table4356661880\" class=\"table-striped table-bordered table-condensed\">\n",
       "<thead><tr><th>col2mass</th><th>Ref.</th><th>source_id</th><th>Control</th></tr></thead>\n",
       "<thead><tr><th>str17</th><th>str7</th><th>int64</th><th>str1</th></tr></thead>\n",
       "<tr><td>16211093-2343287</td><td>3</td><td>--</td><td>N</td></tr>\n",
       "<tr><td>16211848-2254578</td><td>3</td><td>6050297206990387840</td><td>Y</td></tr>\n",
       "<tr><td>16211918-2342287</td><td>3</td><td>6050172068822858624</td><td>Y</td></tr>\n",
       "</table>"
      ],
      "text/plain": [
       "<Table masked=True length=3>\n",
       "    col2mass     Ref.      source_id      Control\n",
       "     str17       str7        int64          str1 \n",
       "---------------- ---- ------------------- -------\n",
       "16211093-2343287    3                  --       N\n",
       "16211848-2254578    3 6050297206990387840       Y\n",
       "16211918-2342287    3 6050172068822858624       Y"
      ]
     },
     "execution_count": 3,
     "metadata": {},
     "output_type": "execute_result"
    }
   ],
   "source": [
    "# Combine Initial & Control  samples ==========\n",
    "# Note: Better start with Control as Control sample is astrometricall CLEAN\n",
    "merged = join(cat_ini, cat_control, keys='col2mass', join_type='left')\n",
    "merged['Control'][merged['Control'].mask == True] = 'N'\n",
    "\n",
    "print(f'Lenght Merged:  {len(merged):10.0f}')\n",
    "print(f'Control in Merged: {len(merged[merged[\"Control\"] == \"Y\"]):7.0f}')\n",
    "merged[0:3]"
   ]
  },
  {
   "cell_type": "code",
   "execution_count": 4,
   "metadata": {},
   "outputs": [
    {
     "name": "stdout",
     "output_type": "stream",
     "text": [
      "Lenght Merged: 470\n",
      "Note: there are 5 duplicated Gaia IDs for 2MASS IDs below:\n"
     ]
    },
    {
     "data": {
      "text/html": [
       "<i>Table masked=True length=5</i>\n",
       "<table id=\"table4549709048\" class=\"table-striped table-bordered table-condensed\">\n",
       "<thead><tr><th>col2mass</th><th>Reps</th><th>Ref.</th><th>source_id</th><th>Control</th></tr></thead>\n",
       "<thead><tr><th>str17</th><th>int64</th><th>str7</th><th>int64</th><th>str1</th></tr></thead>\n",
       "<tr><td>16222099-2304025</td><td>2</td><td>3</td><td>--</td><td>N</td></tr>\n",
       "<tr><td>16233609-2402209</td><td>2</td><td>3</td><td>6049399966845155840</td><td>Y</td></tr>\n",
       "<tr><td>16253958-2426349</td><td>2</td><td>1, 2, 3</td><td>--</td><td>N</td></tr>\n",
       "<tr><td>16275565-2444509</td><td>2</td><td>1</td><td>6049090974013703424</td><td>Y</td></tr>\n",
       "<tr><td>16282373-2441412</td><td>2</td><td>1</td><td>6049081284567483136</td><td>Y</td></tr>\n",
       "</table>"
      ],
      "text/plain": [
       "<Table masked=True length=5>\n",
       "    col2mass      Reps   Ref.       source_id      Control\n",
       "     str17       int64   str7         int64          str1 \n",
       "---------------- ----- ------- ------------------- -------\n",
       "16222099-2304025     2       3                  --       N\n",
       "16233609-2402209     2       3 6049399966845155840       Y\n",
       "16253958-2426349     2 1, 2, 3                  --       N\n",
       "16275565-2444509     2       1 6049090974013703424       Y\n",
       "16282373-2441412     2       1 6049081284567483136       Y"
      ]
     },
     "execution_count": 4,
     "metadata": {},
     "output_type": "execute_result"
    }
   ],
   "source": [
    "# Combine Initial*Control & Gaia*Ini  samples =\n",
    "merged_2 = join(merged, cat_igaia, keys='col2mass', join_type='left')\n",
    "\n",
    "# Correct for Control duplicates by join ======\n",
    "for i in range(len(merged_2)):\n",
    "    if merged_2['source_id_2'][i] not in cat_control['source_id']:\n",
    "        merged_2['Control'][i] = 'N'\n",
    "\n",
    "# Find duplicate values =======================\n",
    "print(f'Lenght Merged: {len(merged_2)}')\n",
    "print('Note: there are 5 duplicated Gaia IDs for 2MASS IDs below:')\n",
    "\n",
    "coll   = collections.Counter(merged_2['col2mass'])\n",
    "ids    = [inp for inp in coll]\n",
    "ntimes = [coll[inp_id] for inp_id in ids]\n",
    "nreps  = Table([ids, ntimes], names=['col2mass', 'Reps'])\n",
    "duplex = nreps[nreps['Reps'] == 2]\n",
    "duplex = join(duplex, merged, keys='col2mass')\n",
    "duplex"
   ]
  },
  {
   "cell_type": "code",
   "execution_count": 5,
   "metadata": {},
   "outputs": [
    {
     "data": {
      "text/html": [
       "<i>Table masked=True length=2</i>\n",
       "<table id=\"table4356664176\" class=\"table-striped table-bordered table-condensed\">\n",
       "<thead><tr><th>col2mass</th><th>Ref.</th><th>source_id_1</th><th>Control</th><th>source_id_2</th></tr></thead>\n",
       "<thead><tr><th>str17</th><th>str7</th><th>int64</th><th>str1</th><th>int64</th></tr></thead>\n",
       "<tr><td>16233609-2402209</td><td>3</td><td>6049399966845155840</td><td>Y</td><td>6049399966845155840</td></tr>\n",
       "<tr><td>16233609-2402209</td><td>3</td><td>6049399966845155840</td><td>N</td><td>6049399971141149312</td></tr>\n",
       "</table>"
      ],
      "text/plain": [
       "<Table masked=True length=2>\n",
       "    col2mass     Ref.     source_id_1     Control     source_id_2    \n",
       "     str17       str7        int64          str1         int64       \n",
       "---------------- ---- ------------------- ------- -------------------\n",
       "16233609-2402209    3 6049399966845155840       Y 6049399966845155840\n",
       "16233609-2402209    3 6049399966845155840       N 6049399971141149312"
      ]
     },
     "execution_count": 5,
     "metadata": {},
     "output_type": "execute_result"
    }
   ],
   "source": [
    "# For sanity Check keep this cell =============\n",
    "merged_2[merged_2['col2mass'] == duplex['col2mass'][1]]"
   ]
  },
  {
   "cell_type": "code",
   "execution_count": 6,
   "metadata": {},
   "outputs": [
    {
     "name": "stdout",
     "output_type": "stream",
     "text": [
      "\n",
      "Total Elements in merged:                                            470\n",
      "Total Elements in merged after duplicate 2MASS-ID correction:        465\n",
      "Total Gaia Elements in merged:                                       304\n",
      "Control Elements in merged:                                          188\n"
     ]
    },
    {
     "data": {
      "text/html": [
       "<i>Table masked=True length=3</i>\n",
       "<table id=\"table4549687056\" class=\"table-striped table-bordered table-condensed\">\n",
       "<thead><tr><th>col2mass</th><th>Ref.</th><th>Control</th><th>source_id</th></tr></thead>\n",
       "<thead><tr><th>str17</th><th>str7</th><th>str1</th><th>int64</th></tr></thead>\n",
       "<tr><td>16211093-2343287</td><td>3</td><td>N</td><td>6050182204945677568</td></tr>\n",
       "<tr><td>16211848-2254578</td><td>3</td><td>Y</td><td>6050297206990387840</td></tr>\n",
       "<tr><td>16211918-2342287</td><td>3</td><td>Y</td><td>6050172068822858624</td></tr>\n",
       "</table>"
      ],
      "text/plain": [
       "<Table masked=True length=3>\n",
       "    col2mass     Ref. Control      source_id     \n",
       "     str17       str7   str1         int64       \n",
       "---------------- ---- ------- -------------------\n",
       "16211093-2343287    3       N 6050182204945677568\n",
       "16211848-2254578    3       Y 6050297206990387840\n",
       "16211918-2342287    3       Y 6050172068822858624"
      ]
     },
     "execution_count": 6,
     "metadata": {},
     "output_type": "execute_result"
    }
   ],
   "source": [
    "# Construct final merged table ================\n",
    "merged_3 = merged_2.copy()\n",
    "merged_3.remove_column('source_id_1')\n",
    "merged_3.rename_column('source_id_2', 'source_id')\n",
    "\n",
    "print()\n",
    "print(f'Total Elements in merged: {len(merged_3):46.0f}')\n",
    "print(f'Total Elements in merged after duplicate 2MASS-ID correction: {len(unique(merged_3, keys=\"col2mass\")):10.0f}')\n",
    "print(f'Total Gaia Elements in merged: {len(merged_3[merged_3[\"source_id\"].mask == False]):41.0f}')\n",
    "print(f'Control Elements in merged: {len(merged_3[merged_3[\"Control\"] == \"Y\"]):44.0f}')\n",
    "\n",
    "\n",
    "merged_3[0:3]"
   ]
  },
  {
   "cell_type": "code",
   "execution_count": 7,
   "metadata": {},
   "outputs": [
    {
     "data": {
      "text/html": [
       "<i>Table masked=True length=2</i>\n",
       "<table id=\"table4356662944\" class=\"table-striped table-bordered table-condensed\">\n",
       "<thead><tr><th>col2mass</th><th>Ref.</th><th>Control</th><th>source_id</th></tr></thead>\n",
       "<thead><tr><th>str17</th><th>str7</th><th>str1</th><th>int64</th></tr></thead>\n",
       "<tr><td>16282373-2441412</td><td>1</td><td>N</td><td>6049081284565928192</td></tr>\n",
       "<tr><td>16282373-2441412</td><td>1</td><td>Y</td><td>6049081284567483136</td></tr>\n",
       "</table>"
      ],
      "text/plain": [
       "<Table masked=True length=2>\n",
       "    col2mass     Ref. Control      source_id     \n",
       "     str17       str7   str1         int64       \n",
       "---------------- ---- ------- -------------------\n",
       "16282373-2441412    1       N 6049081284565928192\n",
       "16282373-2441412    1       Y 6049081284567483136"
      ]
     },
     "execution_count": 7,
     "metadata": {},
     "output_type": "execute_result"
    }
   ],
   "source": [
    "# For sanity Check keep this cell =============\n",
    "merged_3[merged_3['col2mass'] == duplex['col2mass'][4]]"
   ]
  },
  {
   "cell_type": "code",
   "execution_count": 8,
   "metadata": {},
   "outputs": [
    {
     "data": {
      "text/html": [
       "<i>Table masked=True length=5</i>\n",
       "<table id=\"table4549686440\" class=\"table-striped table-bordered table-condensed\">\n",
       "<thead><tr><th>2MASS</th><th>Ref.</th><th>Control</th><th>DR2 Source ID</th></tr></thead>\n",
       "<thead><tr><th>str17</th><th>str7</th><th>str1</th><th>int64</th></tr></thead>\n",
       "<tr><td>16261949-2437275</td><td>1, 2, 3</td><td>Y</td><td>6049122310095142656</td></tr>\n",
       "<tr><td>16262083-2428395</td><td>1, 3</td><td>N</td><td>--</td></tr>\n",
       "<tr><td>16262096-2408468</td><td>3</td><td>Y</td><td>6049357429490158336</td></tr>\n",
       "<tr><td>16262097-2408518</td><td>1, 2</td><td>Y</td><td>6049357433785068672</td></tr>\n",
       "<tr><td>16262138-2423040</td><td>1, 3</td><td>N</td><td>--</td></tr>\n",
       "</table>"
      ],
      "text/plain": [
       "<Table masked=True length=5>\n",
       "     2MASS         Ref.  Control    DR2 Source ID   \n",
       "     str17         str7    str1         int64       \n",
       "---------------- ------- ------- -------------------\n",
       "16261949-2437275 1, 2, 3       Y 6049122310095142656\n",
       "16262083-2428395    1, 3       N                  --\n",
       "16262096-2408468       3       Y 6049357429490158336\n",
       "16262097-2408518    1, 2       Y 6049357433785068672\n",
       "16262138-2423040    1, 3       N                  --"
      ]
     },
     "execution_count": 8,
     "metadata": {},
     "output_type": "execute_result"
    }
   ],
   "source": [
    "# Save Table =======================\n",
    "merged_3.rename_column('col2mass',    '2MASS')\n",
    "merged_3.rename_column('source_id', 'DR2 Source ID')\n",
    "merged_3.write('sample_ini_cross.vot', format = 'votable', overwrite = True)\n",
    "merged_3[120:125].write('sample_ini_cross.tex', format = 'ascii.latex', overwrite = True)\n",
    "!open 'sample_ini_cross.tex'\n",
    "\n",
    "merged_3[120:125]"
   ]
  },
  {
   "cell_type": "code",
   "execution_count": null,
   "metadata": {},
   "outputs": [],
   "source": []
  }
 ],
 "metadata": {
  "kernelspec": {
   "display_name": "Python 3",
   "language": "python",
   "name": "python3"
  },
  "language_info": {
   "codemirror_mode": {
    "name": "ipython",
    "version": 3
   },
   "file_extension": ".py",
   "mimetype": "text/x-python",
   "name": "python",
   "nbconvert_exporter": "python",
   "pygments_lexer": "ipython3",
   "version": "3.6.8"
  }
 },
 "nbformat": 4,
 "nbformat_minor": 2
}
